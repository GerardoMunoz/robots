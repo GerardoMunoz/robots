{
  "nbformat": 4,
  "nbformat_minor": 0,
  "metadata": {
    "colab": {
      "provenance": [],
      "authorship_tag": "ABX9TyN/87Efmzx6tn36Tc8jkJYh",
      "include_colab_link": true
    },
    "kernelspec": {
      "name": "python3",
      "display_name": "Python 3"
    },
    "language_info": {
      "name": "python"
    }
  },
  "cells": [
    {
      "cell_type": "markdown",
      "metadata": {
        "id": "view-in-github",
        "colab_type": "text"
      },
      "source": [
        "<a href=\"https://colab.research.google.com/github/GerardoMunoz/robots/blob/main/2_Join_Arm_Jacobian.ipynb\" target=\"_parent\"><img src=\"https://colab.research.google.com/assets/colab-badge.svg\" alt=\"Open In Colab\"/></a>"
      ]
    },
    {
      "cell_type": "markdown",
      "source": [
        "# 2-Joint Planar Robot Arm: Linear Algebra and Applications\n",
        "\n",
        "## 1. Direct Kinematics"
      ],
      "metadata": {
        "id": "0wK3eP-CnoUE"
      }
    },
    {
      "cell_type": "markdown",
      "source": [
        "![image.png](data:image/png;base64,iVBORw0KGgoAAAANSUhEUgAAARsAAADUCAYAAACs5If0AAAAAXNSR0IArs4c6QAAAARnQU1BAACxjwv8YQUAAAAJcEhZcwAADsMAAA7DAcdvqGQAACA3SURBVHhe7Z0LeFTVtcc3LwEVJBApIiI1UECtQQjQAiJqeUi5KMUaqNbARRvBi1KvSgURKYgGLFQoLxUBqwQtXoQKAn4F5KElRCDC5SGEN1fEhLc8BJw7/5W9w2EyM5lk5sycM/n/vm9/65x9ZpicIeeftdZee+9yHi+KEEJspry2hBBiKxQbQhzCnDlzVJcuXdS0adN0j3No2LChGjp0qNq1a5fuKTkUG0JiTH5+vojMCy+8oPr06aPS09P1FeewdOlSdfToUZWSkiKiWBqYsyEkhhihAYsXL1a1atWSY6cCoendu7fKzMxUvXr10r2hQc+GkBgybtw4lZubq95//33HCw2AwAwZMkQNGDCgxCEVPRtCYsTq1avVHXfcIQ/vyy+/rHudD7yxxMRE1blzZ/HGQoWeDSExYvbs2WL79esn1h85OTkSZpUrV061bNlSHnQDriFxi2vW/uKw/pt4v6+HYq6h+UtWwwPr37+/WrJkScm8G3g2hJDok5CQ4ElKStJn/klNTfV4wyzP1KlTEYGIBRs3bpT3oy8lJUX6QsX8mxkZGfJ+r2elrxSQl5cnPxeu4XP8kZmZednPEwoUG0JiwKpVq+RhxYMfChAA83ojBl7vQl8tHRAc/Jv+xApC5g2T9FlRIEJ4b7DX+MIwipAYcODAAbHNmzcXWxwIXTDsnJ2dLUllHE+ePFlfLR033XST8oqW/JtWEBphmBvD8IFITk4Wu3PnTrGhQLEhJAbs27dPH4UOcjYYuULNy6RJk3RveEC0API4hrlz54oIhTK0jZ8nVCg2hLiEBg0aiB0xYkTEhsmNZ3Xw4EGxSDS/+uqrasKECXIeSSg2hLgAeB5vvPGGHG/evFlsJGjTpo1Y829Onz5dtWrVSnXt2lXOIwnFhpAYUL9+fX1UPPA2evbsWehtLFu2TGwkqFu3rtj169cXejUZGRnSFwoIt0KFYkNIDKhXr55YPOTBgACg7qVTp07ibaCQDvUtgUChIOpjzBSI4kCSOCEhQR07dkw98cQTUj9jkr/BMDke1OmECsWGkBjQrl07ech9R4IMEBmIBip1wciRI8X26NFDLOYomeI8f+D9oYKwCQKGn+Xpp5/WvcHZunWrWPPzhALFhpAYgdEejOb4q8Jdu3atWDMlwCSEH3jgAQldMBly8ODBAUOekiSQW7RoIXbmzJkhv2/lypViO3bsKDYkdL0NISTKmMI+3wrecChpZS8KBFHAV5KfwRQYlqSgD3AiJiExBLOnp0yZIh4O8ifhgloceCehTJA0+SCwbt06saFQ6p9ZJIcQEhPgJWC6ABqOwwGekpnOEAjMh4IX4xUK+Ux4NTgOFeM5wZYUig0hMQbigJAE850gGHaCz4FYoEFoAk209AU/I0QK7ymN0AAmiAmJMSbsGTVqlDQ71yA2o1ReD0hGn0IZ5gatW7cWi/eUdIU+A3M2hJCoQM+GEBIVKDaEkKjAMIoQF7Jk5ecqc8Fi9dW2HWrT9h3q540bqduaNFK9u3dRndsXTK50GhQbQlzE+QsX1BMvvqJm/GO+7ilK39/epyb9+XlVqWJF3eMMKDaEuIhH//RnNevDBXJctcHNqlKNa1WFK6uri6dPqPPHvlNn9myRa2k9u6u3Xn1Rjp0CczaEuIQ3Mj8UoSlfoYK6+pZfqir1GqkKV9fwPsXlxeK8mrcf1/E6vN5JUGwIcQn/WlMwObNS7RtUpYTacuxLRW8/rgPzeqdAsSHEJWTlFKymV+X64GvImOvm9U6BYkOIyyhX6Qp95C4oNoS4hFbJt4o9s6dg4apAnD1YsL2Keb1ToNgQ4hLuaVswP+n84X3qwtHDcuzLeW//+cP75di83ilw6JsQF+HmoW+KDSEuAkV9j/1phHpv/ie6pyhOLepjGEWIi/j+1Cl1PHezuvh/O1SNih51c8OClfIwXeGh+7qqj6dPUG+MHuY4oQH0bAhxCdhupW/fvuqjjz6S3TE3bNigatSooa86H3o2hLgEbLsLoYHAzJs3z1VCAyg2hLiAv/71r9IgMDNmzFDNmjXTV9wDxYYQh4P9nODVgPHjx6v7779fjt0GczaEOJiNGzequ+66S/I1EJpBgwbpK+6Dng0hDsUqNBAZNwsNoNgQ4kDMyBNsnz591PDhw/UV98IwihCHYR3iRiJ4+fLlrht58gc9G0I02Iq2XLlyhc1sTRttrLU08SI0gGJDiOa9995TKSkpcty5c2c5jzZ//OMfXV1LEwyKDSEa7EyJBpAnMcfRIh5qaYJhW86mdt+RYg/PGCaWEDdQs2ZNdfToUZWXlxdVsUEtDbwa5GsgNBC7eIOeDSGaXbt2idAkJSVFVWgwxG2EBsPb8Sg0wDaxmTXwQWmEuIWsrCyxnTp1EhsN9uzZc1ktDQr34hXbxObe5o2lEeIWVq5cKbZ9+/Zi7QYC06NHD7HxUksTDIZRhGjWrVsntmnTpmLtBAKDIW6EUEgEw6OJp5Enf7CojxAv+fn5KjExUSUkJKgjR47oXvuA0CApbGppYOMdejaEeFm7tmBDt1DyNRCmadOmqZYtW15WAJiTk6NfERwkgyE0ppamLAgNoNgQ4mXz5oIN3Zo3by42GNOnT1ePP/64evTRRxUCg1WrVklyuWfPnvoVgYn3Wppg2CY2LZ6dKI0QN7Bs2TKxbdq0EWtl9erVqmHDy3eh7N+/v0pPT5fjdu3aqV69eqnc3Nyg3k28rEtTWljUR4gXhELA3+OAcAlt8uTJuqcoAwYMUFOmTPH7fuC7XEQ8D3EHgmEUKfMsWrRILOZDWUGRHzyW7Oxs1a1bN91bFLxuzpw54u34oyzV0gSDng0p0yBE6t69u1QOByPQ9AUki83s8MWLFxd5DQQGQgPPBmET8jTxPsQdCHo2pEyDfAuGuvE3N1gLNH0BQgOhCiQ01lqasiw0gGJDSClBngZJ4Q8//NCvGJnlIjC0HW/LRZQGig0hpWDo0KGSp0FBXnJysu69BIa3TS0NPJqyUksTDNvE5obEGtIIiTeQUB49erR69913LxMaJJORA4LQwKsxQtOhQwf9irINpysQUkJQc4PwyR9DhgyRIXLkayA08bpcRGmg2BASIVhLExzmbAiJAKilMctFUGj8Q8+GkDCx1tLE09YrkYaeDSFh4FtLQ6EJjG1i88n67dIIiWdYSxM6tolN2sQPpBESr7CWpmQwjCKkFLCWpuRQbAgpIStWrChclwaLlJe1dWlKC8WGkBKARLB1iBuNhAbFhpAQYS1NeFBsCAkBM8QNwcEQd7zv8WQHFBtCisEIDXI1rKUpPbZVEE9bWrA1Rnqn1mIJcStmjycIzIYNGzjEXUo4XYGQIPgOcXPkqfQwjCIkABSayELPhhA/WJeLwKgTh7jDh54NIT74rktDoYkM9GwIsQCBuf3222WIG6vswavhyFNksE1semS8I3be4EfEEuJ0IDQo2uMQtz3YFkat2bZXGiFugLU09sOcDSFeMLES69KYkScKTeSh2JAyD4a40YzQwLMhkYdiQ8o0ppYGsJbGXig2pMyCIW6zLg1GnSg09kKxIXHLV3u/UUkDxqi/f7ZB91yCtTTRh2JD4pbcQ0fUyTPn1H/P/Fi9s2K97r00xA2LWhouFxEdWNRH4prXF65RL89dJscZv79X9WjeUIa4MfLEIe7oQrEhcc/ERWvUyH8UCE7SmX3q3++/JctEYLkICk30YBhF4p6BXduql1J/Jce5VeurhIY/t22Pp0WLFqmWLVuqcuXKqQEDBuheAig2pEzww7a16syWL+S4dsffqesaNJTjkgAhadiwoQgJLM6t4PzXv/61ys7OlvPk5GSx8Q4S7ZhLVhwUGxL3YJU9DHGfyvpENa5ZRR05c14NnD5fXw2N1atXi5Dk5ubKOSzO58yZI+f5+fnq4YcfVgkJCWrVqlUK2Yn09HS5Fu8gJEUOrFiQs7GDTXu/kUZILNmwYYPHGy4hL+kZP36857vjpzwpz070XNvnz55Rc5fpVxVP586dPV4h8XiFRM5hcY7mFR5P//795TM2btwo1+ON5cuXe7yhpz67nKNHj0orDtvEBv+ZaITECqvQDBo0SPd6PJ9v31v4+5m984DuDUxeXp78G5mZmbqnAAgLxCYlJUWuZ2Rk6CvxAb6/4cOHe5o1ayb3h+8yHCg2JC7BX1rzkPTp06fIX94XM5fK72f3V2bqnsDAi8G/Aw/Gl6lTp8q1pKQk3eNu8D1ZBcY0b6gk/aF4MIFgzobEHWa5CFQJo5bG3wJYwx68RzWonaC+2L5PTV5ckDguDR07dhSLXE0wdu3apYYOHVqYYDajVcj1hMu4f65S9f/witp5KPx/C7ktNHx3+M5Q9IgSAbSXXnoprBE8ig2JO0zRHhKXgYa4K5Yvr1787T1yjKK//JOn5dgfdevWFZuVlSXWAKFITU0VocEIlEkW+wPCMmXKFElWe//IK69HJOfDhg3Tryg9B/KPq7PnL6gZywpGwcIhLS1NdejQQb633bt3F86CD0dkCilwcCIPwygSC5Cbwa+19+GQnENxpE14X35PR/3jX7rHP8jLID9jTRCbXA2OTQLZX6gFcN0354PQC+8Jl6/2fiP3cF2/UZ78E9/rXv8g0YvvCGFStKHYkLgBo01GaAKNnPjyhU4W13tstOfoqdO6tygLFy4szF9YmxEQk9eBgBhBKg68FiIUCR7Rovna/JW65xJeD8VvHibU7yhSUGxIXOB19wtHnnBcEn7/esGD+sqHy3WPfyA4EAh8BrwanFsZMmTIZQ8zkseBMOLl6+2UlhWbc+UebnlqnO4p8GIgMOZ7QcMxPJtQvL5IY5vYvDB7iTRC7AYPjnmgrEPcobJm2x55UOv/4RXPqbPndG/pwPC3ESSIjz/MkDlqcyJJt5dnyH28/a91cg6PxghMhw4d5HsKZzQpXGwTG0KiAR6ocITG8NvX3pUH9Z0V63WPPSCnA6FJTU3VPeEDDwZ8+MUmuYd2Q6fIOYCXF0uBscLRKOJaIrkuzW9a3yp23r83i7UDM3rl9XzUpEmTdG/pwNA0hqKxxxXmJmGU6ze/uFU1ui5RbT/4nZqftUVeh+/FK8ZyHGsoNsSVhFJLUxJ6tL5FVa5UUa3etici9Sr+6NKli9jFixerWrVqyXFJwD1jzWQIDJq1HsbQ9+4WYiMxDB5xtIdDiKtAVTB+fVHZilAqEjw5fYGEIWPmrdA9kQP5G9+hcUyDQH4nFBAKmXARDcf4DnzzMBcuXvQ0/q/X5D5WbonM9xIp6NkQ14HwAWED/qKj+AzFe5HgN17vBnz85TaxkQLVw6NHj1ZeUZAQylQQJyYmFs4iLw7cK+4TBXcotAtUcFehfHnV754UOXaad2PbSn3evxJiJ/TrLpaQSGC2XsEDhoct0jsiNHj8VXX63HmVM26Qui6hmu6NDtiN0+zIGc59IWdzxwtTvYKm1O4pg9WVla/QV2KLbZ7NnNU50giJFGZdGmDX1ittmxR4SZ9vj87W0cjDWBO9uL9Zs2bpq6Wj8fXXyn3Ajfg0Z6fujT0Mo4grQCIUHg0ezkGDBskoix20bXKj2M9t3qcec7cgMD/96U8vS/Ti3sIZVTN0TC5YifDTr3aIdQIUG+J4sOSkGeLGwwivxi7aaM9mzbbil7kMBwgnBAZYJz7i3hBGhcuvbmsklp4NISECgYHQQHDwUEbir34wmjW4Tl1d5Qq169sj6uipM7q39ODn9wfyTRAWCAy2k0FIaE30hsvP6iaqm2/4ifceTquVW3br3thCsSGOBQ+qtZYGf/0j+UAGomGdRLE7D+WJLSn4eU0eBkLpDwgnvDQ776fjbQWh1NKNX4uNNRQb4lgQahS3Lo0dJNWpKRY7aoYKhNFfwR1aIO/Gbjom2xdKjRkzpnAhsGDr+Fih2BBHggfX1NIg5IhULU0oJF1XUN2b6w2lQgGiiESvycPgZ0ZYtGHDBgmToiWSvrRqdIOqm1Bd7T58ROXs+Ub3Fg+EpGbNmiIkqHrOybl8VBkrDg4ePLiwRqhp06Zii0VK+2xg33dHpRFSUsaXYl2aSPI//94sFbh9Jn6ge4LjFcPCmdU4dsrER/DMrIVyL2M/+kz3BAez1vHdWxsqn70iKtfNuj1YYiPQQmGB4HQF4ijMg4tfaBzHgrVf75MHtOuot3VPwcxqiGAgIjVlItIs2fi13EunEW/pnsBg+gSExSokZkF39AFMr0DDa0sKxYY4hnDXpYkU/7vvkDygbZ4ZV2SFO6eKSiB+/PFHz43pr8j97D0c3OMyC3r5eixY4MsIDmyoKxH6QrEhjgAPMSZV4pc5lkKDEOjNWe95Ktas46lQuar8PGgQQUx8dJvYgIfGZ4rYLFi3Rff4xyz85Q+sv4PvIZwFv5ggJjHHWkuDIW67a2mCgdGvx9IeUheOHPKqjKfITgPRTFRHiqb1aovduv+w2NJgpoZ4wyyxxYERKiSZL0OLTsQ59v0ZaYQEA56E9xdZ/moiXIl1chWff0f79p6rW93rue6RYbrX3ZgV/NImBE94m3DJN4xCchi5HDR/160gxIJ3hNf5yottYoObQyMkGGZdGoQp0QhR8BkmD+PGkKg0bN3/rTyLrZ77m+7xj9lm2JoghgAZoUEfrEkW+4KcD8IsvM4s/m6FYkNihnWI26yjawfwVjCyBYExCWg0iE5ZoW6/UfI8njwTfEF33x0i0CAwZujbDI1jC5pgHo55nRWKDYkJ0ailgeeCEM0qMDhGX6x3Gog29wx/Q57HrB37dU9gIBQmZEJi2AiNwYxKmeZ7HfgTGyaISdTBAlFmXRokg03yMdJ4hUUSvgCJXjPxEQlfJKJxvayASZlgy4Hik8TPPfecOnLkCJRCEr3Jycn6SgFYQ9kbLhUmiw8ePCi2OCg2JKp4/wpetlwEml1ATCAsmDaAmdV2T3x0MoUjUiGITXFgsfbJkycXClLXrl31leBQbEjUiOa6NAZ4TW4cro40NxeKzbdiYwHFhkQFCAyWi3BCLU1Z5JJn853YWGCb2NzbvLE0QozQmMW8EdKU1XAmVtS+5mr1kxpXq2Pfn1H7847rXnvAbhLLli2T40WLFokFtu2uQIgBSy9gyQgIDPInDGtiw4N/eU+t2LxLvTeoV+FaN5EGy1L4IyMjg2EUsReIjBEat5b7xwu1rr5S7Ikz58TaAXwXfw0jXBQbYhsQGXg1RmjsGuImoVHtyipiT54+KzbaUGyILWCIOxq1NCR0qletLNZOzyYYFBsScSA02HAtGrU0JHSM2Jw8+4PYaGOb2Iz56DNppGwBgTG1NNhIjkPczqG6DqOOfx/+FjWlwbbRqNp9R4o9PGOYWBK/QFjgzWDb2PLly6u33347ZkPc5vfOH9jtct7gR/TZJaYtXauGZS7VZ0WZNfBBv2UcLZ6dqPbn+d854YbEGurLsQP12SU+Wb9dpU38QJ8VZWTvTiq9U2t9dokeGe+oNUF26fT3nG3ed0jdPfxNfVYUfA4+zxfs0x9s62zcF+6vpDCMIqUGdTNmZwGETdgNASXsqAxmLQ3xhZ4NKRHwYDC5cf78+XJswETHO++8UxLB8GqI81i7Y7/6j9Ez1S9+Vl8teD5N90YPejY+YM8cFCZZW1kHYRKGsX03YIPngpyMmeiIXSApNM6Fo1EOA8VHmD4PMIU+V2/EVdaAwCBMQrI32AZsFBj3UM2IDetsnIOpcu3Vq5e66aab5LgsYATGmoexrgeDwryyuh5MPGBGo07Ss3EO69evF9utWzex8Q4EBh4KxAUNIROEx7rgFMIkDGVTYNwLwqhn7muvBnZto3uii20J4jXb9oht28R9c2GwYTrCJ7R49WxMHsY30QuvLi0tjYleEnE469sHTI9PSkqStnPnTt0bH5gwCQlerCuDcwBvBV4LRIYCQ+yCYZQPWVlZYjt1Klrs5EaMwGA9GeRhkPA1nox1AzaESxQaYicUGx82bdok1neRZ7fhm+hFwZ2/PAzCJeZhSDRgGOVDy5YtVXZ2tvz1j5XgoAR+7PyV6sG2t6l2Jch5ITSCqLDgjjgRio2F/Px8lZiYKPU1KLsPFWx3MWDAgBK9Jxhj5n2mXluwUnVvebN6a0BP3esfeCsQGMxLsgoMvJWnnnqKAkOcA8TGDhoOGCPNTWCfYnwl2O0vFILtaxwO3x47WbjJ37aDh3XvJbC5mjcE4gZsxFXYlrM5fvqsNDfx+eefi7377rvFWoHXU7NmTRmtAljIefbs2Wrp0qVqyJAh0hcpsDh1WocWcjxz2ZdiQbCCO5OHYcEdcSpMEFswK8K3aVO06GncuHEiNqbuBhtzYaMunF9zzTXSF0nS7moudubybPX8iyNkTpK/gjtuwEbcAsVGA89lyZIlctyuXTuxAP2YnDl69GiVmpqqe+0FYjL37amqyvFv1MUfPWrC/OWSj0HBnXXiIwSGC4gTt0Cx8YLQqEuXLvpMXTbjGwnjwYMHS3/btm3F2gEEBmERPBiESSi8+zbrU7lWq/mdIjBonPhI3ArFxgtCoXXr1l229YS/FuqexqECgbHmYXwL7t7/21iVfGMddVZVVJtPeBgmEVdDsYkBRmAC5WGsBXePdmwl75m5LFssIW7FNrG5tX4daaQAFNwhBLIKjHXf60CJ3tS2yar+tTXUV3sPqSUbv9a9hLgQb3hAwiA3N1fqcvBVLly4UPcWgFqXGTNmeLyCUqQexisqUg8TChMXrpGam15/ma17CHEfrCAOg0BLhqanp6tz585JwhfhEYC3YryYktbBYLGjJgP/os5fvKi+Gj9I1alRTV8hxD1QbCIE8jCYk2QmPAIjMPfdd1/YC089MuEDtXjDdjWubzf1cPvbdS8h7oEJ4jDAyJFvHsYkeoPlYUrDr25rKPbTnB1iQwE1QpizhWJEeGGm+pmQmADPhoQO8jDjx4+XPAy+PtO8YuLxCkzIeZiScjD/uORtrn/0Zc8PFy548vLyPP379y/8fByjz0pKSkrh9YSEBN1LSGywTWwyV22UFg+YiY9ej6VIotcbHkVt4mPXUTNEcBat31aYlLY2iIsRnIyMDOnzJ0KExALbxMbMWnYrRmAwauQrMBAdjDJFQ2CsjFuwSr7Th1596zIhsXo5Q4YMkREyHKempup3EhJ7bEsQu3VHTCR60bA+DOpgDMjDRCLRGw6b9h5S97z0prqqgkdVWPFOkTWSkZ+ZMmWK8no4slj7jh07VK1atfRVQmILxcYLkrr+dhowI0lOWoCq9eBJavfhI+quynnq/amv694CkBBu3bq1CE1mZqbse0WIUyizo1EQGAxTWyc+QmjgtWD0CCNJaE6b+NgxuZHYQz8WbDhmBV6MWai9evXqYoNhZrRbJ6ESYhdlSmwgMAiRzE4DsNaJj27YacAMgX997AexVrA8KcIoLGv65JNP6l7/TJs2TTVq1KhwRjshdlMmxMZMfDQr3MGjARAY34mPscrHhEqHW29SV1aqoC5eVVM90v9J8U6Mh9K7d2/VuXNntWDBAgmlhg4dqt91OXjt8ePHJaeD/A4h0SBuczbwWDBdIB53Gug3aa76Z/ZWdWLlXHVu11e6V4lwLF68WMIphEZYDAxLlj799NMBE8UmhML7CLET28Rmzuocsb3aRW87FJOHifedBrDNy9iPPlONK55Sq98aI2ETksEjR44sFBVUC0N8jh49KueBdoyg2JCoAbFxM6YexiskReph0Betgrto8nH2Vqm3+d34TN3jH6/gSq2N+U78FfehODDU3SQICQfXTsQMNvHRbIzv9PxLack9lK9++fxkVa/WNWr9a8ETwcVBz4ZEC1eJjSm485eHMfUwZWUB8BvTX1Vnfjivtv/tGZVwVVXdW3IoNiRaOH40Cl6LdWa1qYcp6zsNNK1XW+y2A9+JJcTpOFJsIDC+Ow1AYBAWYboABAbD1WV5pwEjNlsPfCu2NOTk5KisrCxpXH6C2I1tYnP38DelhYpvwZ3vTgOm4G7GjBllVmCsNLn+WrFbD5bcs1m9erWsb4PvEaNVaElJSdKHa4TYQczrbEwOBp6M0yY+OplVW3arnmPfVa1/Vl/98/k03UuIc4mJ2EBUMIrkhomPTuW7E9+rW54ap6pXrax2Tn5O9xLiXKKWszEFd8jDoLll4qNTubb6VbLw+Ykz59S+vIKhf0KcjK1i4/nhrIRJyL/4TnyE92ISvU6e+OhkmtTTeZsDh8US4mSKDaNMOOSPtk1uVPMGP6LPLjFt6Vr1/KR31LHFb4vggHJXVFEVa9ZRles3VTPGjFAP3NlS+q20eHai2h/gr/QNiTXUl2MH6rNLfLJ+u0qb+IE+K8rI3p1UeqfW+uwSPTLeUWu27dVnRfEX/m3edyho0hufg8/z5cnpCwqnb/gD94X7s3L89FnV6Imx+qwo9zZvrK6qfIWa+8UmNfkP96sHfvlz6R/z0Wfqtfkr5dgf8wb/3vv/VrREAJ+Fz/QHNhtcNuIxfXYJ3BPuLRAT+nX3O10F3yG+S39cc2UVtWPSs/rsEmu27fH+n/1dnxXlmfvaq+fuv1OfXQK/G/gdCQQ+C59pBb+D+F0MBO4J9+bLsMyl8rsfCHyH/jZuLM0z5kZs82wgLOW9AlOpTgN1VbO7VEL3AapGl/9UVW/+pbqqWvFrrZDiqVa1stgTp8+JJcTJ2JYgxl/KH8+dUblvvah7SKR5ee4y9frCNWpIz7vUoG7tdC8hzsQ2zwbuKYXGXqpr95+eDXEDURuNIpEHw97gxBn/uRZCnATFxsVU057NqbNFlwglxGlQbFxMoWcTYBSJECdBsXEx1apcIRaFfYQ4HdvEBnURaMQ+mCAmbsI2sUEBVrAiLBI+ps7mJBPExAUwjHIxhZ4NwyjiAig2LgYJYpTpP9m1je4hxLnEfD0bQkjZgJ4NISQqUGwIIVGBYkMIiQq2iQ0Sl2iEEAJsSxATQogVhlGEkKhAsSGERAWKDSEkKlBsCCFRgWJDCIkKFBtCSFSg2BBCogLFhhASFSg2hJCoQLEhhEQBpf4fy1dhnLTxUu8AAAAASUVORK5CYII=)"
      ],
      "metadata": {
        "id": "EoIwTagFnn_o"
      }
    },
    {
      "cell_type": "markdown",
      "source": [
        "\n",
        "\n",
        "\n",
        "\n",
        "We define a planar robotic arm with two revolute joints and two links of fixed lengths $L_1$ and $L_2$. The joint angles are $\\alpha_1$ and $\\alpha_2$, and the end-effector position $(x, y)$ is given by:\n",
        "\n",
        "$$\n",
        "x(\\alpha_1, \\alpha_2) = L_1 \\cos(\\alpha_1) + L_2 \\cos(\\alpha_1 + \\alpha_2)\n",
        "$$\n",
        "\n",
        "$$\n",
        "y(\\alpha_1, \\alpha_2) = L_1 \\sin(\\alpha_1) + L_2 \\sin(\\alpha_1 + \\alpha_2)\n",
        "$$\n",
        "\n",
        "This is a **nonlinear** function from joint space $\\mathbb{R}^2$ to Cartesian space $\\mathbb{R}^2$.\n",
        "\n",
        "---\n",
        "\n",
        "## 2.  Jacobian Matrix\n",
        "\n",
        "The **Jacobian matrix** $J(\\alpha_1, \\alpha_2)$ is the partial derivative of the end-effector position with respect to the joint angles:\n",
        "\n",
        "$$\n",
        "J(\\alpha_1, \\alpha_2) =\n",
        "\\begin{bmatrix}\n",
        "\\frac{\\partial x}{\\partial \\alpha_1} & \\frac{\\partial x}{\\partial \\alpha_2} \\\\\n",
        "\\frac{\\partial y}{\\partial \\alpha_1} & \\frac{\\partial y}{\\partial \\alpha_2}\n",
        "\\end{bmatrix}\n",
        "=\n",
        "\\begin{bmatrix}\n",
        "- L_1 \\sin(\\alpha_1) - L_2 \\sin(\\alpha_1 + \\alpha_2) & -L_2 \\sin(\\alpha_1 + \\alpha_2) \\\\\n",
        "L_1 \\cos(\\alpha_1) + L_2 \\cos(\\alpha_1 + \\alpha_2) & L_2 \\cos(\\alpha_1 + \\alpha_2)\n",
        "\\end{bmatrix}\n",
        "$$\n",
        "\n",
        "This Jacobian defines a **linear transformation** that maps joint velocities $\\dot{\\alpha}$ to end-effector velocities $\\dot{x}, \\dot{y}$:\n",
        "\n",
        "$$\n",
        "\\begin{bmatrix}\n",
        "\\dot{x} \\\\\n",
        "\\dot{y}\n",
        "\\end{bmatrix}\n",
        "= J(\\alpha_1, \\alpha_2)\n",
        "\\begin{bmatrix}\n",
        "\\dot{\\alpha}_1 \\\\\n",
        "\\dot{\\alpha}_2\n",
        "\\end{bmatrix}\n",
        "$$\n",
        "\n",
        "This Jacobian maps joint velocities $ [\\dot{\\alpha}_1, \\dot{\\alpha}_2] $ to end-effector velocities $ [\\dot{x}, \\dot{y}] $.\n",
        "\n",
        "\n",
        "### Example:\n"
      ],
      "metadata": {
        "id": "Wd0iLpXp9XbI"
      }
    },
    {
      "cell_type": "markdown",
      "source": [
        "![image.png](data:image/png;base64,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)"
      ],
      "metadata": {
        "id": "cezkvsga9XXJ"
      }
    },
    {
      "cell_type": "markdown",
      "source": [
        "\n",
        "\n",
        "\n",
        "\n",
        "Let $ \\alpha_1 = 0 $, $ \\alpha_2 = 0 $, and $ L_1 = L_2 = 1 $. Then:\n",
        "\n",
        "$$\n",
        "J =\n",
        "\\begin{bmatrix}\n",
        "0 & 0 \\\\\n",
        "2 & 1\n",
        "\\end{bmatrix}\n",
        "$$\n",
        "\n",
        "\n",
        "---\n",
        "\n",
        "## 3. Image of the Jacobian\n",
        "\n",
        "The **image** of $J$ is the set of all Cartesian velocities $(\\dot{x}, \\dot{y})$ that the end-effector can achieve through some joint velocity $(\\dot{\\alpha}_1, \\dot{\\alpha}_2)$.\n",
        "\n",
        "This is equivalent to the **column space** of $J$, and its dimension tells how many **independent directions** the end-effector can move in at that configuration.\n",
        "\n",
        "### Example:\n",
        "\n",
        "Let $\\alpha_1 = 0, \\alpha_2 = 0, L_1 = L_2 = 1$. Then:\n",
        "\n",
        "$$\n",
        "J =\n",
        "\\begin{bmatrix}\n",
        "0 & 0 \\\\\n",
        "2 & 1\n",
        "\\end{bmatrix}\n",
        "$$\n",
        "\n",
        "Then:\n",
        "\n",
        "$$\n",
        "\\begin{bmatrix}\n",
        "\\dot{x} \\\\\n",
        "\\dot{y}\n",
        "\\end{bmatrix}\n",
        "=\n",
        "\\begin{bmatrix}\n",
        "0 \\\\\n",
        "2\\dot{\\alpha}_1 + \\dot{\\alpha}_2\n",
        "\\end{bmatrix}\n",
        "$$\n",
        "\n",
        "So:\n",
        "\n",
        "- $\\dot{x} = 0$\n",
        "- $\\dot{y} = 2\\dot{\\alpha}_1 + \\dot{\\alpha}_2$\n",
        "\n",
        "Hence:\n",
        "\n",
        "$$\n",
        "\\text{Im}(J) = \\text{span}\\left\\{\n",
        "\\begin{bmatrix}\n",
        "0 \\\\\n",
        "1\n",
        "\\end{bmatrix}\n",
        "\\right\\}\n",
        "$$\n",
        "\n",
        "That is, at this configuration, the end-effector can only move **along the y-axis**.\n",
        "\n",
        "\n",
        "\n",
        "### Application in Robotics:\n",
        "\n",
        "* The image determines the **task space mobility**.\n",
        "* If $\\text{rank}(J) = 2$, the robot can move in **any direction** in the plane.\n",
        "* If $\\text{rank}(J) < 2$, the robot is at a **singularity** and loses degrees of freedom — critical for planning and avoiding unstable configurations.\n",
        "\n",
        "\n",
        "---\n",
        "\n",
        "## 4. Kernel of the Jacobian\n",
        "\n",
        "To find the **kernel**, solve:\n",
        "\n",
        "$$\n",
        "J(\\alpha_1, \\alpha_2)\n",
        "\\begin{bmatrix}\n",
        "\\dot{\\alpha}_1 \\\\\n",
        "\\dot{\\alpha}_2\n",
        "\\end{bmatrix}\n",
        "=\n",
        "\\begin{bmatrix}\n",
        "0 \\\\\n",
        "0\n",
        "\\end{bmatrix}\n",
        "$$\n",
        "\n",
        "This gives all joint velocities that **do not move the end-effector** — i.e., self-motions.\n",
        "\n",
        "### Example:\n",
        "\n",
        "Let $\\alpha_1 = 0, \\alpha_2 = 0, L_1 = L_2 = 1$. Then:\n",
        "\n",
        "$$\n",
        "J =\n",
        "\\begin{bmatrix}\n",
        "0 & 0 \\\\\n",
        "2 & 1\n",
        "\\end{bmatrix}\n",
        "\\Rightarrow\n",
        "2\\dot{\\alpha}_1 + \\dot{\\alpha}_2 = 0\n",
        "\\Rightarrow\n",
        "\\ker(J) = \\text{span}\\left\\{\n",
        "\\begin{bmatrix}\n",
        "1 \\\\\n",
        "-2\n",
        "\\end{bmatrix}\n",
        "\\right\\}\n",
        "$$\n",
        "\n",
        "### Application in Robotics:\n",
        "\n",
        "* **Null-space motions**: At some configurations, joint motions may **not change** the end-effector's position.\n",
        "* This is used in **redundant robots** to optimize for secondary goals (e.g., avoiding obstacles, energy efficiency) while keeping the end-effector still.\n",
        "\n",
        "\n",
        "---\n",
        "\n",
        "## Summary Table\n",
        "\n",
        "| Concept           | Meaning                                                 | Robotic Application            |\n",
        "| ----------------- | ------------------------------------------------------- | ------------------------------ |\n",
        "| Direct Kinematics | Maps angles to position                                 | Control, simulation            |\n",
        "| Jacobian          | Linear map from joint velocity to end-effector velocity | Inverse kinematics, control    |\n",
        "| Kernel            | Joint motions that don't affect hand position           | Redundancy, null-space control |\n",
        "| Image             | Possible hand velocities                                | Controllability, singularities |\n"
      ],
      "metadata": {
        "id": "9fipmPa99YJg"
      }
    },
    {
      "cell_type": "markdown",
      "source": [],
      "metadata": {
        "id": "csVBcwmmfpi8"
      }
    },
    {
      "cell_type": "code",
      "execution_count": null,
      "metadata": {
        "id": "ZoMMFIc3fmra"
      },
      "outputs": [],
      "source": []
    }
  ]
}