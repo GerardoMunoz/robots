{
  "cells": [
    {
      "cell_type": "markdown",
      "metadata": {
        "id": "view-in-github",
        "colab_type": "text"
      },
      "source": [
        "<a href=\"https://colab.research.google.com/github/GerardoMunoz/robots/blob/main/arm_direct_kinematics_row_vector.ipynb\" target=\"_parent\"><img src=\"https://colab.research.google.com/assets/colab-badge.svg\" alt=\"Open In Colab\"/></a>"
      ]
    },
    {
      "cell_type": "code",
      "source": [
        "%reset -f"
      ],
      "metadata": {
        "id": "yL40FbB3ORi0"
      },
      "id": "yL40FbB3ORi0",
      "execution_count": 81,
      "outputs": []
    },
    {
      "cell_type": "markdown",
      "metadata": {
        "id": "A8Lcn_b6GAu8"
      },
      "source": [
        "# Direct Kinematics with Row-Vector Convention\n",
        "\n",
        "This notebook demonstrates how to build the **direct kinematics transformation matrix** using the row-vector convention (as in Three.js). We will use SymPy for symbolic computation.\n",
        "\n",
        "## Robot structure:\n",
        "- Rotation about Y (θ0)\n",
        "- Translation along Y (a0)\n",
        "- Rotation about Z (θ1)\n",
        "- Translation along X (a1)\n",
        "- Rotation about Z (θ2)\n",
        "- Translation along X (a2)\n",
        "\n",
        "The final afin transform is:\n",
        "\n",
        "\\[ T = R_y(θ0) T_y(a0) R_z(θ1) T_x(a1) R_z(θ2) T_x(a2) \\]\n",
        "\n",
        "We will construct and simplify this step by step."
      ],
      "id": "A8Lcn_b6GAu8"
    },
    {
      "cell_type": "code",
      "execution_count": 82,
      "metadata": {
        "id": "0hsGAn49GAu-"
      },
      "outputs": [],
      "source": [
        "import sympy as sp\n",
        "\n",
        "# Define symbols\n",
        "θ0, θ1, θ2 = sp.symbols('θ0 θ1 θ2', real=True)\n",
        "a0, a1, a2 = sp.symbols('a0 a1 a2', real=True)\n",
        "\n",
        "# === Helper transforms in ROW-VECTOR convention ===\n",
        "\n",
        "def R_y(theta):\n",
        "    return sp.Matrix([\n",
        "        [sp.cos(theta), 0, -sp.sin(theta), 0],\n",
        "        [0,             1,  0,             0],\n",
        "        [sp.sin(theta), 0,  sp.cos(theta), 0],\n",
        "        [0,             0,  0,             1]\n",
        "    ])\n",
        "\n",
        "def R_z(theta):\n",
        "    return sp.Matrix([\n",
        "        [sp.cos(theta), sp.sin(theta), 0, 0],\n",
        "        [-sp.sin(theta), sp.cos(theta), 0, 0],\n",
        "        [0,              0,             1, 0],\n",
        "        [0,              0,             0, 1]\n",
        "    ])\n",
        "\n",
        "def T_x(a):\n",
        "    return sp.Matrix([\n",
        "        [1, 0, 0, 0],\n",
        "        [0, 1, 0, 0],\n",
        "        [0, 0, 1, 0],\n",
        "        [a, 0, 0, 1]\n",
        "    ])\n",
        "\n",
        "def T_y(a):\n",
        "    return sp.Matrix([\n",
        "        [1, 0, 0, 0],\n",
        "        [0, 1, 0, 0],\n",
        "        [0, 0, 1, 0],\n",
        "        [0, a, 0, 1]\n",
        "    ])\n"
      ],
      "id": "0hsGAn49GAu-"
    },
    {
      "cell_type": "markdown",
      "metadata": {
        "id": "0BApMVTEGAu_"
      },
      "source": [
        "## Step 1: Build the transformation chain\n",
        "\n",
        "Each elementary transform corresponds to a joint or a link:"
      ],
      "id": "0BApMVTEGAu_"
    },
    {
      "cell_type": "code",
      "execution_count": 83,
      "metadata": {
        "colab": {
          "base_uri": "https://localhost:8080/",
          "height": 118
        },
        "id": "zN_LfABxGAu_",
        "outputId": "0f059398-e532-46c6-e156-20c4e1f3628a"
      },
      "outputs": [
        {
          "output_type": "execute_result",
          "data": {
            "text/plain": [
              "Matrix([\n",
              "[              cos(θ0)*cos(θ1 + θ2),         sin(θ1 + θ2)*cos(θ0), -sin(θ0), 0],\n",
              "[                     -sin(θ1 + θ2),                 cos(θ1 + θ2),        0, 0],\n",
              "[              sin(θ0)*cos(θ1 + θ2),         sin(θ0)*sin(θ1 + θ2),  cos(θ0), 0],\n",
              "[-a0*sin(θ1 + θ2) + a1*cos(θ2) + a2, a0*cos(θ1 + θ2) + a1*sin(θ2),        0, 1]])"
            ],
            "text/latex": "$\\displaystyle \\left[\\begin{matrix}\\cos{\\left(θ_{0} \\right)} \\cos{\\left(θ_{1} + θ_{2} \\right)} & \\sin{\\left(θ_{1} + θ_{2} \\right)} \\cos{\\left(θ_{0} \\right)} & - \\sin{\\left(θ_{0} \\right)} & 0\\\\- \\sin{\\left(θ_{1} + θ_{2} \\right)} & \\cos{\\left(θ_{1} + θ_{2} \\right)} & 0 & 0\\\\\\sin{\\left(θ_{0} \\right)} \\cos{\\left(θ_{1} + θ_{2} \\right)} & \\sin{\\left(θ_{0} \\right)} \\sin{\\left(θ_{1} + θ_{2} \\right)} & \\cos{\\left(θ_{0} \\right)} & 0\\\\- a_{0} \\sin{\\left(θ_{1} + θ_{2} \\right)} + a_{1} \\cos{\\left(θ_{2} \\right)} + a_{2} & a_{0} \\cos{\\left(θ_{1} + θ_{2} \\right)} + a_{1} \\sin{\\left(θ_{2} \\right)} & 0 & 1\\end{matrix}\\right]$"
          },
          "metadata": {},
          "execution_count": 83
        }
      ],
      "source": [
        "# Build chain of transforms\n",
        "T1 = R_y(θ0)\n",
        "T2 = T_y(a0)\n",
        "T3 = R_z(θ1)\n",
        "T4 = T_x(a1)\n",
        "T5 = R_z(θ2)\n",
        "T6 = T_x(a2)\n",
        "\n",
        "# Total transform (row-vector convention)\n",
        "T = T1 * T2 * T3 * T4 * T5 * T6\n",
        "T_simplified = sp.simplify(T)\n",
        "\n",
        "T_simplified"
      ],
      "id": "zN_LfABxGAu_"
    },
    {
      "cell_type": "markdown",
      "metadata": {
        "id": "bmEmfdUUGAu_"
      },
      "source": [
        "## Step 2: Extract end-effector position\n",
        "\n",
        "In the row-vector convention, the **last row** of the afin matrix contains the translation \\([x, y, z, 1]\\)."
      ],
      "id": "bmEmfdUUGAu_"
    },
    {
      "cell_type": "code",
      "execution_count": 84,
      "metadata": {
        "colab": {
          "base_uri": "https://localhost:8080/",
          "height": 58
        },
        "id": "ZEe6NqV_GAu_",
        "outputId": "d69c4ee7-365e-4821-c31d-617c0356eb5e"
      },
      "outputs": [
        {
          "output_type": "execute_result",
          "data": {
            "text/plain": [
              "Matrix([[-a0*sin(θ1 + θ2) + a1*cos(θ2) + a2, a0*cos(θ1 + θ2) + a1*sin(θ2), 0]])"
            ],
            "text/latex": "$\\displaystyle \\left[\\begin{matrix}- a_{0} \\sin{\\left(θ_{1} + θ_{2} \\right)} + a_{1} \\cos{\\left(θ_{2} \\right)} + a_{2} & a_{0} \\cos{\\left(θ_{1} + θ_{2} \\right)} + a_{1} \\sin{\\left(θ_{2} \\right)} & 0\\end{matrix}\\right]$"
          },
          "metadata": {},
          "execution_count": 84
        }
      ],
      "source": [
        "# Extract end-effector position\n",
        "end_effector = T_simplified[-1, 0:3]\n",
        "end_effector"
      ],
      "id": "ZEe6NqV_GAu_"
    },
    {
      "cell_type": "markdown",
      "metadata": {
        "id": "8pbgK-ntGAvA"
      },
      "source": [
        "## Step 3: Verify with substitution\n",
        "\n",
        "We can plug in numerical values for angles and link lengths to test the result."
      ],
      "id": "8pbgK-ntGAvA"
    },
    {
      "cell_type": "code",
      "execution_count": 85,
      "metadata": {
        "colab": {
          "base_uri": "https://localhost:8080/",
          "height": 38
        },
        "id": "HQZjtOa6GAvA",
        "outputId": "7b57192b-cf6e-48f6-8f53-5219dbdef658"
      },
      "outputs": [
        {
          "output_type": "execute_result",
          "data": {
            "text/plain": [
              "Matrix([[1.0, 0, 0]])"
            ],
            "text/latex": "$\\displaystyle \\left[\\begin{matrix}1.0 & 0 & 0\\end{matrix}\\right]$"
          },
          "metadata": {},
          "execution_count": 85
        }
      ],
      "source": [
        "# Example substitution: θ0=0, θ1=90°, θ2=0, a0=1, a1=1, a2=1\n",
        "subs = {θ0: 0, θ1: sp.pi/2, θ2: 0, a0: 1, a1: 1, a2: 1}\n",
        "numeric_position = end_effector.subs(subs).evalf()\n",
        "numeric_position"
      ],
      "id": "HQZjtOa6GAvA"
    },
    {
      "cell_type": "code",
      "source": [
        "import matplotlib.pyplot as plt\n",
        "\n",
        "# Define the transformation matrices for the 2D projection (ignoring θ0)\n",
        "# T1 = R_y(θ0) is ignored\n",
        "\n",
        "T2 = T_y(a0)\n",
        "T3 = R_z(θ1)\n",
        "T4 = T_x(a1)\n",
        "T5 = R_z(θ2)\n",
        "T6 = T_x(a2)\n",
        "\n",
        "# Calculate the position of each joint by multiplying the relevant transforms\n",
        "# Start with a point at the origin [0, 0, 0, 1]\n",
        "origin = sp.Matrix([[0, 0, 0, 1]])\n",
        "\n",
        "# Joint 1 (after T_y(a0)) - This is the base of the arm in the 2D projection\n",
        "joint1_pos_afin = origin * T2\n",
        "joint1_pos = joint1_pos_afin[0, 0:3]\n",
        "\n",
        "# Joint 2 (after R_z(θ1) T_x(a1))\n",
        "joint2_pos_afin = origin * T2 * T3 * T4\n",
        "joint2_pos = joint2_pos_afin[0, 0:3]\n",
        "\n",
        "# End-effector position (after R_z(θ2) T_x(a2)) - This is the same as T_simplified[-1, 0:3] but calculated step by step\n",
        "end_effector_pos_afin = origin * T2 * T3 * T4 * T5 * T6\n",
        "end_effector_pos = end_effector_pos_afin[0, 0:3]\n",
        "\n",
        "\n",
        "# Substitute numerical values\n",
        "subs = {θ1: 0, θ2: 0, a0: 1, a1: 1, a2: 1} # Using the same substitution as before, but excluding θ0\n",
        "\n",
        "joint1_numeric = joint1_pos.subs(subs).evalf()\n",
        "joint2_numeric = joint2_pos.subs(subs).evalf()\n",
        "end_effector_numeric = end_effector_pos.subs(subs).evalf()\n",
        "\n",
        "# Extract x and y coordinates for each joint\n",
        "origin_coords = (0, 0)\n",
        "joint1_coords = (joint1_numeric[0], joint1_numeric[1])\n",
        "joint2_coords = (joint2_numeric[0], joint2_numeric[1])\n",
        "end_effector_coords = (end_effector_numeric[0], end_effector_numeric[1])\n",
        "\n",
        "\n",
        "# Plot the arm segments\n",
        "plt.figure()\n",
        "# Segment 1 (origin to joint1)\n",
        "plt.plot([origin_coords[0], joint1_coords[0]], [origin_coords[1], joint1_coords[1]], 'o-', linewidth=2, markersize=8, label='a0 segment')\n",
        "# Segment 2 (joint1 to joint2)\n",
        "plt.plot([joint1_coords[0], joint2_coords[0]], [joint1_coords[1], joint1_coords[1]], 'o-', linewidth=2, markersize=8, label='a1 segment')\n",
        "# Segment 3 (joint2 to end-effector)\n",
        "plt.plot([joint2_coords[0], end_effector_coords[0]], [joint2_coords[1], end_effector_coords[1]], 'o-', linewidth=2, markersize=8, label='a2 segment')\n",
        "\n",
        "\n",
        "plt.title('Robot Arm in 2D (Ignoring θ0)')\n",
        "plt.xlabel('X')\n",
        "plt.ylabel('Y')\n",
        "plt.grid(True)\n",
        "plt.axis('equal') # Ensure equal scaling for x and y axes\n",
        "plt.legend() # Show legend for segments\n",
        "plt.show()"
      ],
      "metadata": {
        "colab": {
          "base_uri": "https://localhost:8080/",
          "height": 219
        },
        "id": "jd2abmWTGqeU",
        "outputId": "bfb3f1fc-f281-4845-ad5c-a4f0f0d9ee3e"
      },
      "id": "jd2abmWTGqeU",
      "execution_count": 86,
      "outputs": [
        {
          "output_type": "display_data",
          "data": {
            "text/plain": [
              "<Figure size 640x480 with 1 Axes>"
            ],
            "image/png": "[encoded data removed]"
          },
          "metadata": {}
        }
      ]
    },
    {
      "cell_type": "code",
      "source": [
        "subs"
      ],
      "metadata": {
        "colab": {
          "base_uri": "https://localhost:8080/"
        },
        "id": "7YjzaFvEMhb0",
        "outputId": "9b10b338-69a9-4c2b-cb41-ed0fadd432df"
      },
      "id": "7YjzaFvEMhb0",
      "execution_count": 87,
      "outputs": [
        {
          "output_type": "execute_result",
          "data": {
            "text/plain": [
              "{θ1: 0, θ2: 0, a0: 1, a1: 1, a2: 1}"
            ]
          },
          "metadata": {},
          "execution_count": 87
        }
      ]
    },
    {
      "cell_type": "code",
      "source": [
        "joint1_pos_afin"
      ],
      "metadata": {
        "colab": {
          "base_uri": "https://localhost:8080/",
          "height": 38
        },
        "id": "QrsxzRa3LIlP",
        "outputId": "e7f0d64b-8b56-48a0-ab15-c05e4421649c"
      },
      "id": "QrsxzRa3LIlP",
      "execution_count": 88,
      "outputs": [
        {
          "output_type": "execute_result",
          "data": {
            "text/plain": [
              "Matrix([[0, a0, 0, 1]])"
            ],
            "text/latex": "$\\displaystyle \\left[\\begin{matrix}0 & a_{0} & 0 & 1\\end{matrix}\\right]$"
          },
          "metadata": {},
          "execution_count": 88
        }
      ]
    },
    {
      "cell_type": "code",
      "source": [
        "joint1_numeric"
      ],
      "metadata": {
        "colab": {
          "base_uri": "https://localhost:8080/",
          "height": 38
        },
        "id": "OUVKC8XaNX7J",
        "outputId": "5981257c-33bd-4836-8c4d-b4b3313ddd2f"
      },
      "id": "OUVKC8XaNX7J",
      "execution_count": 89,
      "outputs": [
        {
          "output_type": "execute_result",
          "data": {
            "text/plain": [
              "Matrix([[0, 1.0, 0]])"
            ],
            "text/latex": "$\\displaystyle \\left[\\begin{matrix}0 & 1.0 & 0\\end{matrix}\\right]$"
          },
          "metadata": {},
          "execution_count": 89
        }
      ]
    },
    {
      "cell_type": "code",
      "source": [
        "joint2_pos_afin"
      ],
      "metadata": {
        "colab": {
          "base_uri": "https://localhost:8080/",
          "height": 58
        },
        "id": "9jqU_utwMBYe",
        "outputId": "e4d49e38-c654-456d-87eb-d8f734868aa7"
      },
      "id": "9jqU_utwMBYe",
      "execution_count": 90,
      "outputs": [
        {
          "output_type": "execute_result",
          "data": {
            "text/plain": [
              "Matrix([[-a0*sin(θ1) + a1, a0*cos(θ1), 0, 1]])"
            ],
            "text/latex": "$\\displaystyle \\left[\\begin{matrix}- a_{0} \\sin{\\left(θ_{1} \\right)} + a_{1} & a_{0} \\cos{\\left(θ_{1} \\right)} & 0 & 1\\end{matrix}\\right]$"
          },
          "metadata": {},
          "execution_count": 90
        }
      ]
    },
    {
      "cell_type": "code",
      "source": [
        "joint2_numeric"
      ],
      "metadata": {
        "colab": {
          "base_uri": "https://localhost:8080/",
          "height": 38
        },
        "id": "4Mj-mANEMn6T",
        "outputId": "6f038ea4-aa9f-479a-a35d-728f37dcd115"
      },
      "id": "4Mj-mANEMn6T",
      "execution_count": 91,
      "outputs": [
        {
          "output_type": "execute_result",
          "data": {
            "text/plain": [
              "Matrix([[1.0, 1.0, 0]])"
            ],
            "text/latex": "$\\displaystyle \\left[\\begin{matrix}1.0 & 1.0 & 0\\end{matrix}\\right]$"
          },
          "metadata": {},
          "execution_count": 91
        }
      ]
    },
    {
      "cell_type": "code",
      "source": [
        "end_effector_pos_afin"
      ],
      "metadata": {
        "colab": {
          "base_uri": "https://localhost:8080/",
          "height": 58
        },
        "id": "u-mKqRH4OGsn",
        "outputId": "0c1d6afb-30f2-49c7-a22d-5797f6c5101e"
      },
      "id": "u-mKqRH4OGsn",
      "execution_count": 92,
      "outputs": [
        {
          "output_type": "execute_result",
          "data": {
            "text/plain": [
              "Matrix([[-a0*sin(θ2)*cos(θ1) + a2 + (-a0*sin(θ1) + a1)*cos(θ2), a0*cos(θ1)*cos(θ2) + (-a0*sin(θ1) + a1)*sin(θ2), 0, 1]])"
            ],
            "text/latex": "$\\displaystyle \\left[\\begin{matrix}- a_{0} \\sin{\\left(θ_{2} \\right)} \\cos{\\left(θ_{1} \\right)} + a_{2} + \\left(- a_{0} \\sin{\\left(θ_{1} \\right)} + a_{1}\\right) \\cos{\\left(θ_{2} \\right)} & a_{0} \\cos{\\left(θ_{1} \\right)} \\cos{\\left(θ_{2} \\right)} + \\left(- a_{0} \\sin{\\left(θ_{1} \\right)} + a_{1}\\right) \\sin{\\left(θ_{2} \\right)} & 0 & 1\\end{matrix}\\right]$"
          },
          "metadata": {},
          "execution_count": 92
        }
      ]
    },
    {
      "cell_type": "code",
      "source": [
        "end_effector_numeric"
      ],
      "metadata": {
        "colab": {
          "base_uri": "https://localhost:8080/",
          "height": 38
        },
        "id": "eO774dlnOGj_",
        "outputId": "927e861f-24be-46f7-ffaf-64cf7a7f0d95"
      },
      "id": "eO774dlnOGj_",
      "execution_count": 93,
      "outputs": [
        {
          "output_type": "execute_result",
          "data": {
            "text/plain": [
              "Matrix([[2.0, 1.0, 0]])"
            ],
            "text/latex": "$\\displaystyle \\left[\\begin{matrix}2.0 & 1.0 & 0\\end{matrix}\\right]$"
          },
          "metadata": {},
          "execution_count": 93
        }
      ]
    },
    {
      "cell_type": "code",
      "source": [],
      "metadata": {
        "id": "_2irISx_OGhH"
      },
      "id": "_2irISx_OGhH",
      "execution_count": 93,
      "outputs": []
    },
    {
      "cell_type": "code",
      "metadata": {
        "colab": {
          "base_uri": "https://localhost:8080/",
          "height": 223
        },
        "id": "cc8897f1",
        "outputId": "c35fe697-203c-4cba-f1fc-fc45a4979c44"
      },
      "source": [
        "import matplotlib.pyplot as plt\n",
        "\n",
        "# Define the transformation matrices for the 2D projection (ignoring θ0)\n",
        "# T1 = R_y(θ0) is ignored\n",
        "\n",
        "T2 = T_y(a0)\n",
        "T3 = R_z(θ1)\n",
        "T4 = T_x(a1)\n",
        "T5 = R_z(θ2)\n",
        "T6 = T_x(a2)\n",
        "\n",
        "# Calculate the position of each joint by multiplying the relevant transforms\n",
        "# Start with a point at the origin [0, 0, 0, 1]\n",
        "origin = sp.Matrix([[0, 0, 0, 1]])\n",
        "\n",
        "# Joint 1 (after T_y(a0)) - This is the base of the arm in the 2D projection\n",
        "joint1_pos_afin = origin * T2\n",
        "joint1_pos = joint1_pos_afin[0, 0:3]\n",
        "\n",
        "# Joint 2 (after R_z(θ1) T_x(a1))\n",
        "joint2_pos_afin = origin * T2 * T3 * T4\n",
        "joint2_pos = joint2_pos_afin[0, 0:3]\n",
        "\n",
        "# End-effector position (after R_z(θ2) T_x(a2)) - This is the same as T_simplified[-1, 0:3] but calculated step by step\n",
        "end_effector_pos_afin = origin * T2 * T3 * T4 * T5 * T6\n",
        "end_effector_pos = end_effector_pos_afin[0, 0:3]\n",
        "\n",
        "\n",
        "# Substitute numerical values\n",
        "subs = {θ1: sp.pi/2, θ2: 0, a0: 1, a1: 1, a2: 1} # Using the same substitution as before, but excluding θ0\n",
        "\n",
        "joint1_numeric = joint1_pos.subs(subs).evalf()\n",
        "joint2_numeric = joint2_pos.subs(subs).evalf()\n",
        "end_effector_numeric = end_effector_pos.subs(subs).evalf()\n",
        "\n",
        "# Extract x and y coordinates for each joint\n",
        "origin_coords = (0, 0)\n",
        "joint1_coords = (joint1_numeric[0], joint1_numeric[1])\n",
        "joint2_coords = (joint2_numeric[0], joint2_numeric[1])\n",
        "end_effector_coords = (end_effector_numeric[0], end_effector_numeric[1])\n",
        "\n",
        "\n",
        "# Plot the arm segments\n",
        "plt.figure()\n",
        "# Segment 1 (origin to joint1)\n",
        "plt.plot([origin_coords[0], joint1_coords[0]], [origin_coords[1], joint1_coords[1]], 'o-', linewidth=2, markersize=8, label='a0 segment')\n",
        "# Segment 2 (joint1 to joint2)\n",
        "plt.plot([joint1_coords[0], joint2_coords[0]], [joint1_coords[1], joint1_coords[1]], 'o-', linewidth=2, markersize=8, label='a1 segment')\n",
        "# Segment 3 (joint2 to end-effector)\n",
        "plt.plot([joint2_coords[0], end_effector_coords[0]], [joint2_coords[1], end_effector_coords[1]], 'o-', linewidth=2, markersize=8, label='a2 segment')\n",
        "\n",
        "\n",
        "plt.title('Robot Arm in 2D (Ignoring θ0)')\n",
        "plt.xlabel('X')\n",
        "plt.ylabel('Y')\n",
        "plt.grid(True)\n",
        "plt.axis('equal') # Ensure equal scaling for x and y axes\n",
        "plt.legend() # Show legend for segments\n",
        "plt.show()"
      ],
      "id": "cc8897f1",
      "execution_count": 94,
      "outputs": [
        {
          "output_type": "display_data",
          "data": {
            "text/plain": [
              "<Figure size 640x480 with 1 Axes>"
            ],
            "image/png": "[encoded data removed]"
          },
          "metadata": {}
        }
      ]
    },
    {
      "cell_type": "code",
      "source": [],
      "metadata": {
        "id": "_KnDMijWVwWm"
      },
      "id": "_KnDMijWVwWm",
      "execution_count": null,
      "outputs": []
    },
    {
      "cell_type": "code",
      "metadata": {
        "colab": {
          "base_uri": "https://localhost:8080/"
        },
        "id": "727664ef",
        "outputId": "888ea246-28d8-4638-bdad-bd934484ee6e"
      },
      "source": [
        "# Install ipywidgets\n",
        "%pip install ipywidgets"
      ],
      "id": "727664ef",
      "execution_count": 95,
      "outputs": [
        {
          "output_type": "stream",
          "name": "stdout",
          "text": [
            "Requirement already satisfied: ipywidgets in /usr/local/lib/python3.12/dist-packages (7.7.1)\n",
            "Requirement already satisfied: ipykernel>=4.5.1 in /usr/local/lib/python3.12/dist-packages (from ipywidgets) (6.17.1)\n",
            "Requirement already satisfied: ipython-genutils~=0.2.0 in /usr/local/lib/python3.12/dist-packages (from ipywidgets) (0.2.0)\n",
            "Requirement already satisfied: traitlets>=4.3.1 in /usr/local/lib/python3.12/dist-packages (from ipywidgets) (5.7.1)\n",
            "Requirement already satisfied: widgetsnbextension~=3.6.0 in /usr/local/lib/python3.12/dist-packages (from ipywidgets) (3.6.10)\n",
            "Requirement already satisfied: ipython>=4.0.0 in /usr/local/lib/python3.12/dist-packages (from ipywidgets) (7.34.0)\n",
            "Requirement already satisfied: jupyterlab-widgets>=1.0.0 in /usr/local/lib/python3.12/dist-packages (from ipywidgets) (3.0.15)\n",
            "Requirement already satisfied: debugpy>=1.0 in /usr/local/lib/python3.12/dist-packages (from ipykernel>=4.5.1->ipywidgets) (1.8.15)\n",
            "Requirement already satisfied: jupyter-client>=6.1.12 in /usr/local/lib/python3.12/dist-packages (from ipykernel>=4.5.1->ipywidgets) (7.4.9)\n",
            "Requirement already satisfied: matplotlib-inline>=0.1 in /usr/local/lib/python3.12/dist-packages (from ipykernel>=4.5.1->ipywidgets) (0.1.7)\n",
            "Requirement already satisfied: nest-asyncio in /usr/local/lib/python3.12/dist-packages (from ipykernel>=4.5.1->ipywidgets) (1.6.0)\n",
            "Requirement already satisfied: packaging in /usr/local/lib/python3.12/dist-packages (from ipykernel>=4.5.1->ipywidgets) (25.0)\n",
            "Requirement already satisfied: psutil in /usr/local/lib/python3.12/dist-packages (from ipykernel>=4.5.1->ipywidgets) (5.9.5)\n",
            "Requirement already satisfied: pyzmq>=17 in /usr/local/lib/python3.12/dist-packages (from ipykernel>=4.5.1->ipywidgets) (26.2.1)\n",
            "Requirement already satisfied: tornado>=6.1 in /usr/local/lib/python3.12/dist-packages (from ipykernel>=4.5.1->ipywidgets) (6.4.2)\n",
            "Requirement already satisfied: setuptools>=18.5 in /usr/local/lib/python3.12/dist-packages (from ipython>=4.0.0->ipywidgets) (75.2.0)\n",
            "Collecting jedi>=0.16 (from ipython>=4.0.0->ipywidgets)\n",
            "  Downloading jedi-0.19.2-py2.py3-none-any.whl.metadata (22 kB)\n",
            "Requirement already satisfied: decorator in /usr/local/lib/python3.12/dist-packages (from ipython>=4.0.0->ipywidgets) (4.4.2)\n",
            "Requirement already satisfied: pickleshare in /usr/local/lib/python3.12/dist-packages (from ipython>=4.0.0->ipywidgets) (0.7.5)\n",
            "Requirement already satisfied: prompt-toolkit!=3.0.0,!=3.0.1,<3.1.0,>=2.0.0 in /usr/local/lib/python3.12/dist-packages (from ipython>=4.0.0->ipywidgets) (3.0.52)\n",
            "Requirement already satisfied: pygments in /usr/local/lib/python3.12/dist-packages (from ipython>=4.0.0->ipywidgets) (2.19.2)\n",
            "Requirement already satisfied: backcall in /usr/local/lib/python3.12/dist-packages (from ipython>=4.0.0->ipywidgets) (0.2.0)\n",
            "Requirement already satisfied: pexpect>4.3 in /usr/local/lib/python3.12/dist-packages (from ipython>=4.0.0->ipywidgets) (4.9.0)\n",
            "Requirement already satisfied: notebook>=4.4.1 in /usr/local/lib/python3.12/dist-packages (from widgetsnbextension~=3.6.0->ipywidgets) (6.5.7)\n",
            "Requirement already satisfied: parso<0.9.0,>=0.8.4 in /usr/local/lib/python3.12/dist-packages (from jedi>=0.16->ipython>=4.0.0->ipywidgets) (0.8.5)\n",
            "Requirement already satisfied: entrypoints in /usr/local/lib/python3.12/dist-packages (from jupyter-client>=6.1.12->ipykernel>=4.5.1->ipywidgets) (0.4)\n",
            "Requirement already satisfied: jupyter-core>=4.9.2 in /usr/local/lib/python3.12/dist-packages (from jupyter-client>=6.1.12->ipykernel>=4.5.1->ipywidgets) (5.8.1)\n",
            "Requirement already satisfied: python-dateutil>=2.8.2 in /usr/local/lib/python3.12/dist-packages (from jupyter-client>=6.1.12->ipykernel>=4.5.1->ipywidgets) (2.9.0.post0)\n",
            "Requirement already satisfied: jinja2 in /usr/local/lib/python3.12/dist-packages (from notebook>=4.4.1->widgetsnbextension~=3.6.0->ipywidgets) (3.1.6)\n",
            "Requirement already satisfied: argon2-cffi in /usr/local/lib/python3.12/dist-packages (from notebook>=4.4.1->widgetsnbextension~=3.6.0->ipywidgets) (25.1.0)\n",
            "Requirement already satisfied: nbformat in /usr/local/lib/python3.12/dist-packages (from notebook>=4.4.1->widgetsnbextension~=3.6.0->ipywidgets) (5.10.4)\n",
            "Requirement already satisfied: nbconvert>=5 in /usr/local/lib/python3.12/dist-packages (from notebook>=4.4.1->widgetsnbextension~=3.6.0->ipywidgets) (7.16.6)\n",
            "Requirement already satisfied: Send2Trash>=1.8.0 in /usr/local/lib/python3.12/dist-packages (from notebook>=4.4.1->widgetsnbextension~=3.6.0->ipywidgets) (1.8.3)\n",
            "Requirement already satisfied: terminado>=0.8.3 in /usr/local/lib/python3.12/dist-packages (from notebook>=4.4.1->widgetsnbextension~=3.6.0->ipywidgets) (0.18.1)\n",
            "Requirement already satisfied: prometheus-client in /usr/local/lib/python3.12/dist-packages (from notebook>=4.4.1->widgetsnbextension~=3.6.0->ipywidgets) (0.22.1)\n",
            "Requirement already satisfied: nbclassic>=0.4.7 in /usr/local/lib/python3.12/dist-packages (from notebook>=4.4.1->widgetsnbextension~=3.6.0->ipywidgets) (1.3.2)\n",
            "Requirement already satisfied: ptyprocess>=0.5 in /usr/local/lib/python3.12/dist-packages (from pexpect>4.3->ipython>=4.0.0->ipywidgets) (0.7.0)\n",
            "Requirement already satisfied: wcwidth in /usr/local/lib/python3.12/dist-packages (from prompt-toolkit!=3.0.0,!=3.0.1,<3.1.0,>=2.0.0->ipython>=4.0.0->ipywidgets) (0.2.13)\n",
            "Requirement already satisfied: platformdirs>=2.5 in /usr/local/lib/python3.12/dist-packages (from jupyter-core>=4.9.2->jupyter-client>=6.1.12->ipykernel>=4.5.1->ipywidgets) (4.4.0)\n",
            "Requirement already satisfied: notebook-shim>=0.2.3 in /usr/local/lib/python3.12/dist-packages (from nbclassic>=0.4.7->notebook>=4.4.1->widgetsnbextension~=3.6.0->ipywidgets) (0.2.4)\n",
            "Requirement already satisfied: beautifulsoup4 in /usr/local/lib/python3.12/dist-packages (from nbconvert>=5->notebook>=4.4.1->widgetsnbextension~=3.6.0->ipywidgets) (4.13.5)\n",
            "Requirement already satisfied: bleach!=5.0.0 in /usr/local/lib/python3.12/dist-packages (from bleach[css]!=5.0.0->nbconvert>=5->notebook>=4.4.1->widgetsnbextension~=3.6.0->ipywidgets) (6.2.0)\n",
            "Requirement already satisfied: defusedxml in /usr/local/lib/python3.12/dist-packages (from nbconvert>=5->notebook>=4.4.1->widgetsnbextension~=3.6.0->ipywidgets) (0.7.1)\n",
            "Requirement already satisfied: jupyterlab-pygments in /usr/local/lib/python3.12/dist-packages (from nbconvert>=5->notebook>=4.4.1->widgetsnbextension~=3.6.0->ipywidgets) (0.3.0)\n",
            "Requirement already satisfied: markupsafe>=2.0 in /usr/local/lib/python3.12/dist-packages (from nbconvert>=5->notebook>=4.4.1->widgetsnbextension~=3.6.0->ipywidgets) (3.0.2)\n",
            "Requirement already satisfied: mistune<4,>=2.0.3 in /usr/local/lib/python3.12/dist-packages (from nbconvert>=5->notebook>=4.4.1->widgetsnbextension~=3.6.0->ipywidgets) (3.1.4)\n",
            "Requirement already satisfied: nbclient>=0.5.0 in /usr/local/lib/python3.12/dist-packages (from nbconvert>=5->notebook>=4.4.1->widgetsnbextension~=3.6.0->ipywidgets) (0.10.2)\n",
            "Requirement already satisfied: pandocfilters>=1.4.1 in /usr/local/lib/python3.12/dist-packages (from nbconvert>=5->notebook>=4.4.1->widgetsnbextension~=3.6.0->ipywidgets) (1.5.1)\n",
            "Requirement already satisfied: fastjsonschema>=2.15 in /usr/local/lib/python3.12/dist-packages (from nbformat->notebook>=4.4.1->widgetsnbextension~=3.6.0->ipywidgets) (2.21.2)\n",
            "Requirement already satisfied: jsonschema>=2.6 in /usr/local/lib/python3.12/dist-packages (from nbformat->notebook>=4.4.1->widgetsnbextension~=3.6.0->ipywidgets) (4.25.1)\n",
            "Requirement already satisfied: six>=1.5 in /usr/local/lib/python3.12/dist-packages (from python-dateutil>=2.8.2->jupyter-client>=6.1.12->ipykernel>=4.5.1->ipywidgets) (1.17.0)\n",
            "Requirement already satisfied: argon2-cffi-bindings in /usr/local/lib/python3.12/dist-packages (from argon2-cffi->notebook>=4.4.1->widgetsnbextension~=3.6.0->ipywidgets) (25.1.0)\n",
            "Requirement already satisfied: webencodings in /usr/local/lib/python3.12/dist-packages (from bleach!=5.0.0->bleach[css]!=5.0.0->nbconvert>=5->notebook>=4.4.1->widgetsnbextension~=3.6.0->ipywidgets) (0.5.1)\n",
            "Requirement already satisfied: tinycss2<1.5,>=1.1.0 in /usr/local/lib/python3.12/dist-packages (from bleach[css]!=5.0.0->nbconvert>=5->notebook>=4.4.1->widgetsnbextension~=3.6.0->ipywidgets) (1.4.0)\n",
            "Requirement already satisfied: attrs>=22.2.0 in /usr/local/lib/python3.12/dist-packages (from jsonschema>=2.6->nbformat->notebook>=4.4.1->widgetsnbextension~=3.6.0->ipywidgets) (25.3.0)\n",
            "Requirement already satisfied: jsonschema-specifications>=2023.03.6 in /usr/local/lib/python3.12/dist-packages (from jsonschema>=2.6->nbformat->notebook>=4.4.1->widgetsnbextension~=3.6.0->ipywidgets) (2025.4.1)\n",
            "Requirement already satisfied: referencing>=0.28.4 in /usr/local/lib/python3.12/dist-packages (from jsonschema>=2.6->nbformat->notebook>=4.4.1->widgetsnbextension~=3.6.0->ipywidgets) (0.36.2)\n",
            "Requirement already satisfied: rpds-py>=0.7.1 in /usr/local/lib/python3.12/dist-packages (from jsonschema>=2.6->nbformat->notebook>=4.4.1->widgetsnbextension~=3.6.0->ipywidgets) (0.27.1)\n",
            "Requirement already satisfied: jupyter-server<3,>=1.8 in /usr/local/lib/python3.12/dist-packages (from notebook-shim>=0.2.3->nbclassic>=0.4.7->notebook>=4.4.1->widgetsnbextension~=3.6.0->ipywidgets) (2.14.0)\n",
            "Requirement already satisfied: cffi>=1.0.1 in /usr/local/lib/python3.12/dist-packages (from argon2-cffi-bindings->argon2-cffi->notebook>=4.4.1->widgetsnbextension~=3.6.0->ipywidgets) (1.17.1)\n",
            "Requirement already satisfied: soupsieve>1.2 in /usr/local/lib/python3.12/dist-packages (from beautifulsoup4->nbconvert>=5->notebook>=4.4.1->widgetsnbextension~=3.6.0->ipywidgets) (2.8)\n",
            "Requirement already satisfied: typing-extensions>=4.0.0 in /usr/local/lib/python3.12/dist-packages (from beautifulsoup4->nbconvert>=5->notebook>=4.4.1->widgetsnbextension~=3.6.0->ipywidgets) (4.15.0)\n",
            "Requirement already satisfied: pycparser in /usr/local/lib/python3.12/dist-packages (from cffi>=1.0.1->argon2-cffi-bindings->argon2-cffi->notebook>=4.4.1->widgetsnbextension~=3.6.0->ipywidgets) (2.22)\n",
            "Requirement already satisfied: anyio>=3.1.0 in /usr/local/lib/python3.12/dist-packages (from jupyter-server<3,>=1.8->notebook-shim>=0.2.3->nbclassic>=0.4.7->notebook>=4.4.1->widgetsnbextension~=3.6.0->ipywidgets) (4.10.0)\n",
            "Requirement already satisfied: jupyter-events>=0.9.0 in /usr/local/lib/python3.12/dist-packages (from jupyter-server<3,>=1.8->notebook-shim>=0.2.3->nbclassic>=0.4.7->notebook>=4.4.1->widgetsnbextension~=3.6.0->ipywidgets) (0.12.0)\n",
            "Requirement already satisfied: jupyter-server-terminals>=0.4.4 in /usr/local/lib/python3.12/dist-packages (from jupyter-server<3,>=1.8->notebook-shim>=0.2.3->nbclassic>=0.4.7->notebook>=4.4.1->widgetsnbextension~=3.6.0->ipywidgets) (0.5.3)\n",
            "Requirement already satisfied: overrides>=5.0 in /usr/local/lib/python3.12/dist-packages (from jupyter-server<3,>=1.8->notebook-shim>=0.2.3->nbclassic>=0.4.7->notebook>=4.4.1->widgetsnbextension~=3.6.0->ipywidgets) (7.7.0)\n",
            "Requirement already satisfied: websocket-client>=1.7 in /usr/local/lib/python3.12/dist-packages (from jupyter-server<3,>=1.8->notebook-shim>=0.2.3->nbclassic>=0.4.7->notebook>=4.4.1->widgetsnbextension~=3.6.0->ipywidgets) (1.8.0)\n",
            "Requirement already satisfied: idna>=2.8 in /usr/local/lib/python3.12/dist-packages (from anyio>=3.1.0->jupyter-server<3,>=1.8->notebook-shim>=0.2.3->nbclassic>=0.4.7->notebook>=4.4.1->widgetsnbextension~=3.6.0->ipywidgets) (3.10)\n",
            "Requirement already satisfied: sniffio>=1.1 in /usr/local/lib/python3.12/dist-packages (from anyio>=3.1.0->jupyter-server<3,>=1.8->notebook-shim>=0.2.3->nbclassic>=0.4.7->notebook>=4.4.1->widgetsnbextension~=3.6.0->ipywidgets) (1.3.1)\n",
            "Requirement already satisfied: python-json-logger>=2.0.4 in /usr/local/lib/python3.12/dist-packages (from jupyter-events>=0.9.0->jupyter-server<3,>=1.8->notebook-shim>=0.2.3->nbclassic>=0.4.7->notebook>=4.4.1->widgetsnbextension~=3.6.0->ipywidgets) (3.3.0)\n",
            "Requirement already satisfied: pyyaml>=5.3 in /usr/local/lib/python3.12/dist-packages (from jupyter-events>=0.9.0->jupyter-server<3,>=1.8->notebook-shim>=0.2.3->nbclassic>=0.4.7->notebook>=4.4.1->widgetsnbextension~=3.6.0->ipywidgets) (6.0.2)\n",
            "Requirement already satisfied: rfc3339-validator in /usr/local/lib/python3.12/dist-packages (from jupyter-events>=0.9.0->jupyter-server<3,>=1.8->notebook-shim>=0.2.3->nbclassic>=0.4.7->notebook>=4.4.1->widgetsnbextension~=3.6.0->ipywidgets) (0.1.4)\n",
            "Requirement already satisfied: rfc3986-validator>=0.1.1 in /usr/local/lib/python3.12/dist-packages (from jupyter-events>=0.9.0->jupyter-server<3,>=1.8->notebook-shim>=0.2.3->nbclassic>=0.4.7->notebook>=4.4.1->widgetsnbextension~=3.6.0->ipywidgets) (0.1.1)\n",
            "Requirement already satisfied: fqdn in /usr/local/lib/python3.12/dist-packages (from jsonschema[format-nongpl]>=4.18.0->jupyter-events>=0.9.0->jupyter-server<3,>=1.8->notebook-shim>=0.2.3->nbclassic>=0.4.7->notebook>=4.4.1->widgetsnbextension~=3.6.0->ipywidgets) (1.5.1)\n",
            "Requirement already satisfied: isoduration in /usr/local/lib/python3.12/dist-packages (from jsonschema[format-nongpl]>=4.18.0->jupyter-events>=0.9.0->jupyter-server<3,>=1.8->notebook-shim>=0.2.3->nbclassic>=0.4.7->notebook>=4.4.1->widgetsnbextension~=3.6.0->ipywidgets) (20.11.0)\n",
            "Requirement already satisfied: jsonpointer>1.13 in /usr/local/lib/python3.12/dist-packages (from jsonschema[format-nongpl]>=4.18.0->jupyter-events>=0.9.0->jupyter-server<3,>=1.8->notebook-shim>=0.2.3->nbclassic>=0.4.7->notebook>=4.4.1->widgetsnbextension~=3.6.0->ipywidgets) (3.0.0)\n",
            "Requirement already satisfied: rfc3987-syntax>=1.1.0 in /usr/local/lib/python3.12/dist-packages (from jsonschema[format-nongpl]>=4.18.0->jupyter-events>=0.9.0->jupyter-server<3,>=1.8->notebook-shim>=0.2.3->nbclassic>=0.4.7->notebook>=4.4.1->widgetsnbextension~=3.6.0->ipywidgets) (1.1.0)\n",
            "Requirement already satisfied: uri-template in /usr/local/lib/python3.12/dist-packages (from jsonschema[format-nongpl]>=4.18.0->jupyter-events>=0.9.0->jupyter-server<3,>=1.8->notebook-shim>=0.2.3->nbclassic>=0.4.7->notebook>=4.4.1->widgetsnbextension~=3.6.0->ipywidgets) (1.3.0)\n",
            "Requirement already satisfied: webcolors>=24.6.0 in /usr/local/lib/python3.12/dist-packages (from jsonschema[format-nongpl]>=4.18.0->jupyter-events>=0.9.0->jupyter-server<3,>=1.8->notebook-shim>=0.2.3->nbclassic>=0.4.7->notebook>=4.4.1->widgetsnbextension~=3.6.0->ipywidgets) (24.11.1)\n",
            "Requirement already satisfied: lark>=1.2.2 in /usr/local/lib/python3.12/dist-packages (from rfc3987-syntax>=1.1.0->jsonschema[format-nongpl]>=4.18.0->jupyter-events>=0.9.0->jupyter-server<3,>=1.8->notebook-shim>=0.2.3->nbclassic>=0.4.7->notebook>=4.4.1->widgetsnbextension~=3.6.0->ipywidgets) (1.2.2)\n",
            "Requirement already satisfied: arrow>=0.15.0 in /usr/local/lib/python3.12/dist-packages (from isoduration->jsonschema[format-nongpl]>=4.18.0->jupyter-events>=0.9.0->jupyter-server<3,>=1.8->notebook-shim>=0.2.3->nbclassic>=0.4.7->notebook>=4.4.1->widgetsnbextension~=3.6.0->ipywidgets) (1.3.0)\n",
            "Requirement already satisfied: types-python-dateutil>=2.8.10 in /usr/local/lib/python3.12/dist-packages (from arrow>=0.15.0->isoduration->jsonschema[format-nongpl]>=4.18.0->jupyter-events>=0.9.0->jupyter-server<3,>=1.8->notebook-shim>=0.2.3->nbclassic>=0.4.7->notebook>=4.4.1->widgetsnbextension~=3.6.0->ipywidgets) (2.9.0.20250822)\n",
            "Downloading jedi-0.19.2-py2.py3-none-any.whl (1.6 MB)\n",
            "\u001b[2K   \u001b[90m━━━━━━━━━━━━━━━━━━━━━━━━━━━━━━━━━━━━━━━━\u001b[0m \u001b[32m1.6/1.6 MB\u001b[0m \u001b[31m30.9 MB/s\u001b[0m eta \u001b[36m0:00:00\u001b[0m\n",
            "\u001b[?25hInstalling collected packages: jedi\n",
            "Successfully installed jedi-0.19.2\n"
          ]
        }
      ]
    },
    {
      "cell_type": "code",
      "metadata": {
        "colab": {
          "base_uri": "https://localhost:8080/",
          "height": 189,
          "referenced_widgets": [
            "cc8ad6d424784e6687a71e56562b707e",
            "de19233104044c83bca2fa95fb801c75",
            "2757f8eb47ca4fc7b8b0382d0886bb9d",
            "57610f501f4144d883c9ce157d5f16ba",
            "c1fd3b24e7a44ef0b613c13369be303d",
            "5530c7fe5adf43d588db931de8fb0ee5",
            "cac7f8d0fe4b43589112c23a8ba8c461",
            "204923e411654d01bc469fa4e87eb79e",
            "7e0496bcc8b04a88857425c973edd7ec",
            "5a72cbf1b6644a1c8ba09c1d886c8f4f",
            "4acb24982d3c40a18dfda6b6ecafd3c9",
            "abdf66971e3b4c8083b87fbdbb21c734",
            "9bf569b2a4404b9c9352a7b663f12b57",
            "7be992e923fa46e58ac01f678c4c273c",
            "2722c575cd704e92847ebd8c901b8d14"
          ]
        },
        "id": "08c1a713",
        "outputId": "f0babab3-2d20-46ac-a62f-797af880f084"
      },
      "source": [
        "import ipywidgets as widgets\n",
        "from ipywidgets import interactive\n",
        "\n",
        "# Create sliders for θ1 and θ2\n",
        "theta1_slider = widgets.FloatSlider(min=-sp.pi, max=sp.pi, step=0.01, value=0, description='θ1 (rad):')\n",
        "theta2_slider = widgets.FloatSlider(min=-sp.pi, max=sp.pi, step=0.01, value=0, description='θ2 (rad):')\n",
        "a0_slider = widgets.FloatSlider(min=0.1, max=5, step=0.1, value=1, description='a0:')\n",
        "a1_slider = widgets.FloatSlider(min=0.1, max=5, step=0.1, value=1, description='a1:')\n",
        "a2_slider = widgets.FloatSlider(min=0.1, max=5, step=0.1, value=1, description='a2:')\n",
        "\n",
        "# Display the sliders\n",
        "display(theta1_slider, theta2_slider, a0_slider, a1_slider, a2_slider)"
      ],
      "id": "08c1a713",
      "execution_count": 96,
      "outputs": [
        {
          "output_type": "display_data",
          "data": {
            "text/plain": [
              "FloatSlider(value=0.0, description='θ1 (rad):', max=3.141592653589793, min=-3.141592653589793, step=0.01)"
            ],
            "application/vnd.jupyter.widget-view+json": {
              "version_major": 2,
              "version_minor": 0,
              "model_id": "cc8ad6d424784e6687a71e56562b707e"
            }
          },
          "metadata": {}
        },
        {
          "output_type": "display_data",
          "data": {
            "text/plain": [
              "FloatSlider(value=0.0, description='θ2 (rad):', max=3.141592653589793, min=-3.141592653589793, step=0.01)"
            ],
            "application/vnd.jupyter.widget-view+json": {
              "version_major": 2,
              "version_minor": 0,
              "model_id": "57610f501f4144d883c9ce157d5f16ba"
            }
          },
          "metadata": {}
        },
        {
          "output_type": "display_data",
          "data": {
            "text/plain": [
              "FloatSlider(value=1.0, description='a0:', max=5.0, min=0.1)"
            ],
            "application/vnd.jupyter.widget-view+json": {
              "version_major": 2,
              "version_minor": 0,
              "model_id": "cac7f8d0fe4b43589112c23a8ba8c461"
            }
          },
          "metadata": {}
        },
        {
          "output_type": "display_data",
          "data": {
            "text/plain": [
              "FloatSlider(value=1.0, description='a1:', max=5.0, min=0.1)"
            ],
            "application/vnd.jupyter.widget-view+json": {
              "version_major": 2,
              "version_minor": 0,
              "model_id": "5a72cbf1b6644a1c8ba09c1d886c8f4f"
            }
          },
          "metadata": {}
        },
        {
          "output_type": "display_data",
          "data": {
            "text/plain": [
              "FloatSlider(value=1.0, description='a2:', max=5.0, min=0.1)"
            ],
            "application/vnd.jupyter.widget-view+json": {
              "version_major": 2,
              "version_minor": 0,
              "model_id": "9bf569b2a4404b9c9352a7b663f12b57"
            }
          },
          "metadata": {}
        }
      ]
    },
    {
      "cell_type": "code",
      "metadata": {
        "colab": {
          "base_uri": "https://localhost:8080/",
          "height": 391,
          "referenced_widgets": [
            "197f1e5a5b524ee7807a3e5c81cd6dcd",
            "cc8ad6d424784e6687a71e56562b707e",
            "57610f501f4144d883c9ce157d5f16ba",
            "cac7f8d0fe4b43589112c23a8ba8c461",
            "5a72cbf1b6644a1c8ba09c1d886c8f4f",
            "9bf569b2a4404b9c9352a7b663f12b57",
            "e507a217fa7640419077aaf4a2784a92",
            "237eec9dc9e94dad9493754b96efb7e0",
            "de19233104044c83bca2fa95fb801c75",
            "2757f8eb47ca4fc7b8b0382d0886bb9d",
            "c1fd3b24e7a44ef0b613c13369be303d",
            "5530c7fe5adf43d588db931de8fb0ee5",
            "204923e411654d01bc469fa4e87eb79e",
            "7e0496bcc8b04a88857425c973edd7ec",
            "4acb24982d3c40a18dfda6b6ecafd3c9",
            "abdf66971e3b4c8083b87fbdbb21c734",
            "7be992e923fa46e58ac01f678c4c273c",
            "2722c575cd704e92847ebd8c901b8d14",
            "3b807e8a6bd44abb8d96d217f9a181a7"
          ]
        },
        "id": "bb2c622d",
        "outputId": "1982c66c-92f3-4f68-e6c5-5fa8b84fc8cf"
      },
      "source": [
        "def plot_robot_arm(θ1, θ2, a0, a1, a2):\n",
        "    # Define the transformation matrices for the 2D projection (ignoring θ0)\n",
        "    T2 = T_y(a0)\n",
        "    T3 = R_z(θ1)\n",
        "    T4 = T_x(a1)\n",
        "    T5 = R_z(θ2)\n",
        "    T6 = T_x(a2)\n",
        "\n",
        "    # Calculate the position of each joint by multiplying the relevant transforms\n",
        "    # Start with a point at the origin [0, 0, 0, 1]\n",
        "    origin = sp.Matrix([[0, 0, 0, 1]])\n",
        "\n",
        "    # Joint 1 (after T_y(a0)) - This is the base of the arm in the 2D projection\n",
        "    joint1_pos_afin = origin * T2\n",
        "    joint1_pos = joint1_pos_afin[0, 0:3]\n",
        "\n",
        "    # Joint 2 (after R_z(θ1) T_x(a1))\n",
        "    joint2_pos_afin = origin * T2 * T3 * T4\n",
        "    joint2_pos = joint2_pos_afin[0, 0:3]\n",
        "\n",
        "    # End-effector position (after R_z(θ2) T_x(a2)) - This is the same as T_simplified[-1, 0:3] but calculated step by step\n",
        "    end_effector_pos_afin = origin * T2 * T3 * T4 * T5 * T6\n",
        "    end_effector_pos = end_effector_pos_afin[0, 0:3]\n",
        "\n",
        "\n",
        "    # Substitute numerical values\n",
        "    subs = {θ1: θ1, θ2: θ2, a0: a0, a1: a1, a2: a2}\n",
        "\n",
        "    joint1_numeric = joint1_pos.subs(subs).evalf()\n",
        "    joint2_numeric = joint2_pos.subs(subs).evalf()\n",
        "    end_effector_numeric = end_effector_pos.subs(subs).evalf()\n",
        "\n",
        "    # Extract x and y coordinates for each joint\n",
        "    origin_coords = (0, 0)\n",
        "    joint1_coords = (joint1_numeric[0], joint1_numeric[1])\n",
        "    joint2_coords = (joint2_numeric[0], joint2_numeric[1])\n",
        "    end_effector_coords = (end_effector_numeric[0], end_effector_numeric[1])\n",
        "\n",
        "\n",
        "    # Plot the arm segments\n",
        "    plt.figure()\n",
        "    # Segment 1 (origin to joint1)\n",
        "    plt.plot([origin_coords[0], joint1_coords[0]], [origin_coords[1], joint1_coords[1]], 'o-', linewidth=2, markersize=8, label='a0 segment')\n",
        "    # Segment 2 (joint1 to joint2)\n",
        "    plt.plot([joint1_coords[0], joint2_coords[0]], [joint1_coords[1], joint1_coords[1]], 'o-', linewidth=2, markersize=8, label='a1 segment')\n",
        "    # Segment 3 (joint2 to end-effector)\n",
        "    plt.plot([joint2_coords[0], end_effector_coords[0]], [joint2_coords[1], end_effector_coords[1]], 'o-', linewidth=2, markersize=8, label='a2 segment')\n",
        "\n",
        "\n",
        "    plt.title('Robot Arm in 2D (Ignoring θ0)')\n",
        "    plt.xlabel('X')\n",
        "    plt.ylabel('Y')\n",
        "    plt.grid(True)\n",
        "    plt.axis('equal') # Ensure equal scaling for x and y axes\n",
        "    plt.legend() # Show legend for segments\n",
        "    plt.show()\n",
        "\n",
        "# Create an interactive plot using the sliders\n",
        "interactive(plot_robot_arm, θ1=theta1_slider, θ2=theta2_slider, a0=a0_slider, a1=a1_slider, a2=a2_slider)"
      ],
      "id": "bb2c622d",
      "execution_count": 97,
      "outputs": [
        {
          "output_type": "display_data",
          "data": {
            "text/plain": [
              "interactive(children=(FloatSlider(value=0.0, description='θ1 (rad):', max=3.141592653589793, min=-3.1415926535…"
            ],
            "application/vnd.jupyter.widget-view+json": {
              "version_major": 2,
              "version_minor": 0,
              "model_id": "197f1e5a5b524ee7807a3e5c81cd6dcd"
            }
          },
          "metadata": {}
        }
      ]
    }
  ],
  "metadata": {
    "kernelspec": {
      "display_name": "Python 3",
      "language": "python",
      "name": "python3"
    },
    "language_info": {
      "name": "python",
      "version": "3.11"
    },
    "colab": {
      "provenance": [],
      "include_colab_link": true
    },
    "widgets": {
      "application/vnd.jupyter.widget-state+json": {
        "cc8ad6d424784e6687a71e56562b707e": {
          "model_module": "@jupyter-widgets/controls",
          "model_name": "FloatSliderModel",
          "model_module_version": "1.5.0",
          "state": {
            "_dom_classes": [],
            "_model_module": "@jupyter-widgets/controls",
            "_model_module_version": "1.5.0",
            "_model_name": "FloatSliderModel",
            "_view_count": null,
            "_view_module": "@jupyter-widgets/controls",
            "_view_module_version": "1.5.0",
            "_view_name": "FloatSliderView",
            "continuous_update": true,
            "description": "θ1 (rad):",
            "description_tooltip": null,
            "disabled": false,
            "layout": "IPY_MODEL_de19233104044c83bca2fa95fb801c75",
            "max": 3.141592653589793,
            "min": -3.141592653589793,
            "orientation": "horizontal",
            "readout": true,
            "readout_format": ".2f",
            "step": 0.01,
            "style": "IPY_MODEL_2757f8eb47ca4fc7b8b0382d0886bb9d",
            "value": -0.00159
          }
        },
        "de19233104044c83bca2fa95fb801c75": {
          "model_module": "@jupyter-widgets/base",
          "model_name": "LayoutModel",
          "model_module_version": "1.2.0",
          "state": {
            "_model_module": "@jupyter-widgets/base",
            "_model_module_version": "1.2.0",
            "_model_name": "LayoutModel",
            "_view_count": null,
            "_view_module": "@jupyter-widgets/base",
            "_view_module_version": "1.2.0",
            "_view_name": "LayoutView",
            "align_content": null,
            "align_items": null,
            "align_self": null,
            "border": null,
            "bottom": null,
            "display": null,
            "flex": null,
            "flex_flow": null,
            "grid_area": null,
            "grid_auto_columns": null,
            "grid_auto_flow": null,
            "grid_auto_rows": null,
            "grid_column": null,
            "grid_gap": null,
            "grid_row": null,
            "grid_template_areas": null,
            "grid_template_columns": null,
            "grid_template_rows": null,
            "height": null,
            "justify_content": null,
            "justify_items": null,
            "left": null,
            "margin": null,
            "max_height": null,
            "max_width": null,
            "min_height": null,
            "min_width": null,
            "object_fit": null,
            "object_position": null,
            "order": null,
            "overflow": null,
            "overflow_x": null,
            "overflow_y": null,
            "padding": null,
            "right": null,
            "top": null,
            "visibility": null,
            "width": null
          }
        },
        "2757f8eb47ca4fc7b8b0382d0886bb9d": {
          "model_module": "@jupyter-widgets/controls",
          "model_name": "SliderStyleModel",
          "model_module_version": "1.5.0",
          "state": {
            "_model_module": "@jupyter-widgets/controls",
            "_model_module_version": "1.5.0",
            "_model_name": "SliderStyleModel",
            "_view_count": null,
            "_view_module": "@jupyter-widgets/base",
            "_view_module_version": "1.2.0",
            "_view_name": "StyleView",
            "description_width": "",
            "handle_color": null
          }
        },
        "57610f501f4144d883c9ce157d5f16ba": {
          "model_module": "@jupyter-widgets/controls",
          "model_name": "FloatSliderModel",
          "model_module_version": "1.5.0",
          "state": {
            "_dom_classes": [],
            "_model_module": "@jupyter-widgets/controls",
            "_model_module_version": "1.5.0",
            "_model_name": "FloatSliderModel",
            "_view_count": null,
            "_view_module": "@jupyter-widgets/controls",
            "_view_module_version": "1.5.0",
            "_view_name": "FloatSliderView",
            "continuous_update": true,
            "description": "θ2 (rad):",
            "description_tooltip": null,
            "disabled": false,
            "layout": "IPY_MODEL_c1fd3b24e7a44ef0b613c13369be303d",
            "max": 3.141592653589793,
            "min": -3.141592653589793,
            "orientation": "horizontal",
            "readout": true,
            "readout_format": ".2f",
            "step": 0.01,
            "style": "IPY_MODEL_5530c7fe5adf43d588db931de8fb0ee5",
            "value": -0.00159
          }
        },
        "c1fd3b24e7a44ef0b613c13369be303d": {
          "model_module": "@jupyter-widgets/base",
          "model_name": "LayoutModel",
          "model_module_version": "1.2.0",
          "state": {
            "_model_module": "@jupyter-widgets/base",
            "_model_module_version": "1.2.0",
            "_model_name": "LayoutModel",
            "_view_count": null,
            "_view_module": "@jupyter-widgets/base",
            "_view_module_version": "1.2.0",
            "_view_name": "LayoutView",
            "align_content": null,
            "align_items": null,
            "align_self": null,
            "border": null,
            "bottom": null,
            "display": null,
            "flex": null,
            "flex_flow": null,
            "grid_area": null,
            "grid_auto_columns": null,
            "grid_auto_flow": null,
            "grid_auto_rows": null,
            "grid_column": null,
            "grid_gap": null,
            "grid_row": null,
            "grid_template_areas": null,
            "grid_template_columns": null,
            "grid_template_rows": null,
            "height": null,
            "justify_content": null,
            "justify_items": null,
            "left": null,
            "margin": null,
            "max_height": null,
            "max_width": null,
            "min_height": null,
            "min_width": null,
            "object_fit": null,
            "object_position": null,
            "order": null,
            "overflow": null,
            "overflow_x": null,
            "overflow_y": null,
            "padding": null,
            "right": null,
            "top": null,
            "visibility": null,
            "width": null
          }
        },
        "5530c7fe5adf43d588db931de8fb0ee5": {
          "model_module": "@jupyter-widgets/controls",
          "model_name": "SliderStyleModel",
          "model_module_version": "1.5.0",
          "state": {
            "_model_module": "@jupyter-widgets/controls",
            "_model_module_version": "1.5.0",
            "_model_name": "SliderStyleModel",
            "_view_count": null,
            "_view_module": "@jupyter-widgets/base",
            "_view_module_version": "1.2.0",
            "_view_name": "StyleView",
            "description_width": "",
            "handle_color": null
          }
        },
        "cac7f8d0fe4b43589112c23a8ba8c461": {
          "model_module": "@jupyter-widgets/controls",
          "model_name": "FloatSliderModel",
          "model_module_version": "1.5.0",
          "state": {
            "_dom_classes": [],
            "_model_module": "@jupyter-widgets/controls",
            "_model_module_version": "1.5.0",
            "_model_name": "FloatSliderModel",
            "_view_count": null,
            "_view_module": "@jupyter-widgets/controls",
            "_view_module_version": "1.5.0",
            "_view_name": "FloatSliderView",
            "continuous_update": true,
            "description": "a0:",
            "description_tooltip": null,
            "disabled": false,
            "layout": "IPY_MODEL_204923e411654d01bc469fa4e87eb79e",
            "max": 5,
            "min": 0.1,
            "orientation": "horizontal",
            "readout": true,
            "readout_format": ".2f",
            "step": 0.1,
            "style": "IPY_MODEL_7e0496bcc8b04a88857425c973edd7ec",
            "value": 1
          }
        },
        "204923e411654d01bc469fa4e87eb79e": {
          "model_module": "@jupyter-widgets/base",
          "model_name": "LayoutModel",
          "model_module_version": "1.2.0",
          "state": {
            "_model_module": "@jupyter-widgets/base",
            "_model_module_version": "1.2.0",
            "_model_name": "LayoutModel",
            "_view_count": null,
            "_view_module": "@jupyter-widgets/base",
            "_view_module_version": "1.2.0",
            "_view_name": "LayoutView",
            "align_content": null,
            "align_items": null,
            "align_self": null,
            "border": null,
            "bottom": null,
            "display": null,
            "flex": null,
            "flex_flow": null,
            "grid_area": null,
            "grid_auto_columns": null,
            "grid_auto_flow": null,
            "grid_auto_rows": null,
            "grid_column": null,
            "grid_gap": null,
            "grid_row": null,
            "grid_template_areas": null,
            "grid_template_columns": null,
            "grid_template_rows": null,
            "height": null,
            "justify_content": null,
            "justify_items": null,
            "left": null,
            "margin": null,
            "max_height": null,
            "max_width": null,
            "min_height": null,
            "min_width": null,
            "object_fit": null,
            "object_position": null,
            "order": null,
            "overflow": null,
            "overflow_x": null,
            "overflow_y": null,
            "padding": null,
            "right": null,
            "top": null,
            "visibility": null,
            "width": null
          }
        },
        "7e0496bcc8b04a88857425c973edd7ec": {
          "model_module": "@jupyter-widgets/controls",
          "model_name": "SliderStyleModel",
          "model_module_version": "1.5.0",
          "state": {
            "_model_module": "@jupyter-widgets/controls",
            "_model_module_version": "1.5.0",
            "_model_name": "SliderStyleModel",
            "_view_count": null,
            "_view_module": "@jupyter-widgets/base",
            "_view_module_version": "1.2.0",
            "_view_name": "StyleView",
            "description_width": "",
            "handle_color": null
          }
        },
        "5a72cbf1b6644a1c8ba09c1d886c8f4f": {
          "model_module": "@jupyter-widgets/controls",
          "model_name": "FloatSliderModel",
          "model_module_version": "1.5.0",
          "state": {
            "_dom_classes": [],
            "_model_module": "@jupyter-widgets/controls",
            "_model_module_version": "1.5.0",
            "_model_name": "FloatSliderModel",
            "_view_count": null,
            "_view_module": "@jupyter-widgets/controls",
            "_view_module_version": "1.5.0",
            "_view_name": "FloatSliderView",
            "continuous_update": true,
            "description": "a1:",
            "description_tooltip": null,
            "disabled": false,
            "layout": "IPY_MODEL_4acb24982d3c40a18dfda6b6ecafd3c9",
            "max": 5,
            "min": 0.1,
            "orientation": "horizontal",
            "readout": true,
            "readout_format": ".2f",
            "step": 0.1,
            "style": "IPY_MODEL_abdf66971e3b4c8083b87fbdbb21c734",
            "value": 1
          }
        },
        "4acb24982d3c40a18dfda6b6ecafd3c9": {
          "model_module": "@jupyter-widgets/base",
          "model_name": "LayoutModel",
          "model_module_version": "1.2.0",
          "state": {
            "_model_module": "@jupyter-widgets/base",
            "_model_module_version": "1.2.0",
            "_model_name": "LayoutModel",
            "_view_count": null,
            "_view_module": "@jupyter-widgets/base",
            "_view_module_version": "1.2.0",
            "_view_name": "LayoutView",
            "align_content": null,
            "align_items": null,
            "align_self": null,
            "border": null,
            "bottom": null,
            "display": null,
            "flex": null,
            "flex_flow": null,
            "grid_area": null,
            "grid_auto_columns": null,
            "grid_auto_flow": null,
            "grid_auto_rows": null,
            "grid_column": null,
            "grid_gap": null,
            "grid_row": null,
            "grid_template_areas": null,
            "grid_template_columns": null,
            "grid_template_rows": null,
            "height": null,
            "justify_content": null,
            "justify_items": null,
            "left": null,
            "margin": null,
            "max_height": null,
            "max_width": null,
            "min_height": null,
            "min_width": null,
            "object_fit": null,
            "object_position": null,
            "order": null,
            "overflow": null,
            "overflow_x": null,
            "overflow_y": null,
            "padding": null,
            "right": null,
            "top": null,
            "visibility": null,
            "width": null
          }
        },
        "abdf66971e3b4c8083b87fbdbb21c734": {
          "model_module": "@jupyter-widgets/controls",
          "model_name": "SliderStyleModel",
          "model_module_version": "1.5.0",
          "state": {
            "_model_module": "@jupyter-widgets/controls",
            "_model_module_version": "1.5.0",
            "_model_name": "SliderStyleModel",
            "_view_count": null,
            "_view_module": "@jupyter-widgets/base",
            "_view_module_version": "1.2.0",
            "_view_name": "StyleView",
            "description_width": "",
            "handle_color": null
          }
        },
        "9bf569b2a4404b9c9352a7b663f12b57": {
          "model_module": "@jupyter-widgets/controls",
          "model_name": "FloatSliderModel",
          "model_module_version": "1.5.0",
          "state": {
            "_dom_classes": [],
            "_model_module": "@jupyter-widgets/controls",
            "_model_module_version": "1.5.0",
            "_model_name": "FloatSliderModel",
            "_view_count": null,
            "_view_module": "@jupyter-widgets/controls",
            "_view_module_version": "1.5.0",
            "_view_name": "FloatSliderView",
            "continuous_update": true,
            "description": "a2:",
            "description_tooltip": null,
            "disabled": false,
            "layout": "IPY_MODEL_7be992e923fa46e58ac01f678c4c273c",
            "max": 5,
            "min": 0.1,
            "orientation": "horizontal",
            "readout": true,
            "readout_format": ".2f",
            "step": 0.1,
            "style": "IPY_MODEL_2722c575cd704e92847ebd8c901b8d14",
            "value": 1
          }
        },
        "7be992e923fa46e58ac01f678c4c273c": {
          "model_module": "@jupyter-widgets/base",
          "model_name": "LayoutModel",
          "model_module_version": "1.2.0",
          "state": {
            "_model_module": "@jupyter-widgets/base",
            "_model_module_version": "1.2.0",
            "_model_name": "LayoutModel",
            "_view_count": null,
            "_view_module": "@jupyter-widgets/base",
            "_view_module_version": "1.2.0",
            "_view_name": "LayoutView",
            "align_content": null,
            "align_items": null,
            "align_self": null,
            "border": null,
            "bottom": null,
            "display": null,
            "flex": null,
            "flex_flow": null,
            "grid_area": null,
            "grid_auto_columns": null,
            "grid_auto_flow": null,
            "grid_auto_rows": null,
            "grid_column": null,
            "grid_gap": null,
            "grid_row": null,
            "grid_template_areas": null,
            "grid_template_columns": null,
            "grid_template_rows": null,
            "height": null,
            "justify_content": null,
            "justify_items": null,
            "left": null,
            "margin": null,
            "max_height": null,
            "max_width": null,
            "min_height": null,
            "min_width": null,
            "object_fit": null,
            "object_position": null,
            "order": null,
            "overflow": null,
            "overflow_x": null,
            "overflow_y": null,
            "padding": null,
            "right": null,
            "top": null,
            "visibility": null,
            "width": null
          }
        },
        "2722c575cd704e92847ebd8c901b8d14": {
          "model_module": "@jupyter-widgets/controls",
          "model_name": "SliderStyleModel",
          "model_module_version": "1.5.0",
          "state": {
            "_model_module": "@jupyter-widgets/controls",
            "_model_module_version": "1.5.0",
            "_model_name": "SliderStyleModel",
            "_view_count": null,
            "_view_module": "@jupyter-widgets/base",
            "_view_module_version": "1.2.0",
            "_view_name": "StyleView",
            "description_width": "",
            "handle_color": null
          }
        },
        "197f1e5a5b524ee7807a3e5c81cd6dcd": {
          "model_module": "@jupyter-widgets/controls",
          "model_name": "VBoxModel",
          "model_module_version": "1.5.0",
          "state": {
            "_dom_classes": [
              "widget-interact"
            ],
            "_model_module": "@jupyter-widgets/controls",
            "_model_module_version": "1.5.0",
            "_model_name": "VBoxModel",
            "_view_count": null,
            "_view_module": "@jupyter-widgets/controls",
            "_view_module_version": "1.5.0",
            "_view_name": "VBoxView",
            "box_style": "",
            "children": [
              "IPY_MODEL_cc8ad6d424784e6687a71e56562b707e",
              "IPY_MODEL_57610f501f4144d883c9ce157d5f16ba",
              "IPY_MODEL_cac7f8d0fe4b43589112c23a8ba8c461",
              "IPY_MODEL_5a72cbf1b6644a1c8ba09c1d886c8f4f",
              "IPY_MODEL_9bf569b2a4404b9c9352a7b663f12b57",
              "IPY_MODEL_e507a217fa7640419077aaf4a2784a92"
            ],
            "layout": "IPY_MODEL_237eec9dc9e94dad9493754b96efb7e0"
          }
        },
        "e507a217fa7640419077aaf4a2784a92": {
          "model_module": "@jupyter-widgets/output",
          "model_name": "OutputModel",
          "model_module_version": "1.0.0",
          "state": {
            "_dom_classes": [],
            "_model_module": "@jupyter-widgets/output",
            "_model_module_version": "1.0.0",
            "_model_name": "OutputModel",
            "_view_count": null,
            "_view_module": "@jupyter-widgets/output",
            "_view_module_version": "1.0.0",
            "_view_name": "OutputView",
            "layout": "IPY_MODEL_3b807e8a6bd44abb8d96d217f9a181a7",
            "msg_id": "",
            "outputs": [
              {
                "output_type": "display_data",
                "data": {
                  "text/plain": "<Figure size 640x480 with 1 Axes>",
                  "image/png": "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\n"
                },
                "metadata": {}
              }
            ]
          }
        },
        "237eec9dc9e94dad9493754b96efb7e0": {
          "model_module": "@jupyter-widgets/base",
          "model_name": "LayoutModel",
          "model_module_version": "1.2.0",
          "state": {
            "_model_module": "@jupyter-widgets/base",
            "_model_module_version": "1.2.0",
            "_model_name": "LayoutModel",
            "_view_count": null,
            "_view_module": "@jupyter-widgets/base",
            "_view_module_version": "1.2.0",
            "_view_name": "LayoutView",
            "align_content": null,
            "align_items": null,
            "align_self": null,
            "border": null,
            "bottom": null,
            "display": null,
            "flex": null,
            "flex_flow": null,
            "grid_area": null,
            "grid_auto_columns": null,
            "grid_auto_flow": null,
            "grid_auto_rows": null,
            "grid_column": null,
            "grid_gap": null,
            "grid_row": null,
            "grid_template_areas": null,
            "grid_template_columns": null,
            "grid_template_rows": null,
            "height": null,
            "justify_content": null,
            "justify_items": null,
            "left": null,
            "margin": null,
            "max_height": null,
            "max_width": null,
            "min_height": null,
            "min_width": null,
            "object_fit": null,
            "object_position": null,
            "order": null,
            "overflow": null,
            "overflow_x": null,
            "overflow_y": null,
            "padding": null,
            "right": null,
            "top": null,
            "visibility": null,
            "width": null
          }
        },
        "3b807e8a6bd44abb8d96d217f9a181a7": {
          "model_module": "@jupyter-widgets/base",
          "model_name": "LayoutModel",
          "model_module_version": "1.2.0",
          "state": {
            "_model_module": "@jupyter-widgets/base",
            "_model_module_version": "1.2.0",
            "_model_name": "LayoutModel",
            "_view_count": null,
            "_view_module": "@jupyter-widgets/base",
            "_view_module_version": "1.2.0",
            "_view_name": "LayoutView",
            "align_content": null,
            "align_items": null,
            "align_self": null,
            "border": null,
            "bottom": null,
            "display": null,
            "flex": null,
            "flex_flow": null,
            "grid_area": null,
            "grid_auto_columns": null,
            "grid_auto_flow": null,
            "grid_auto_rows": null,
            "grid_column": null,
            "grid_gap": null,
            "grid_row": null,
            "grid_template_areas": null,
            "grid_template_columns": null,
            "grid_template_rows": null,
            "height": null,
            "justify_content": null,
            "justify_items": null,
            "left": null,
            "margin": null,
            "max_height": null,
            "max_width": null,
            "min_height": null,
            "min_width": null,
            "object_fit": null,
            "object_position": null,
            "order": null,
            "overflow": null,
            "overflow_x": null,
            "overflow_y": null,
            "padding": null,
            "right": null,
            "top": null,
            "visibility": null,
            "width": null
          }
        }
      }
    }
  },
  "nbformat": 4,
  "nbformat_minor": 5
}